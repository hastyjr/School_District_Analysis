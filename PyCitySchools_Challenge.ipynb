{
 "cells": [
  {
   "cell_type": "markdown",
   "id": "eafa2555",
   "metadata": {},
   "source": [
    "<break>\n",
    "   "
   ]
  },
  {
   "cell_type": "code",
   "execution_count": 2,
   "id": "736ed7c0",
   "metadata": {},
   "outputs": [
    {
     "data": {
      "text/html": [
       "<div>\n",
       "<style scoped>\n",
       "    .dataframe tbody tr th:only-of-type {\n",
       "        vertical-align: middle;\n",
       "    }\n",
       "\n",
       "    .dataframe tbody tr th {\n",
       "        vertical-align: top;\n",
       "    }\n",
       "\n",
       "    .dataframe thead th {\n",
       "        text-align: right;\n",
       "    }\n",
       "</style>\n",
       "<table border=\"1\" class=\"dataframe\">\n",
       "  <thead>\n",
       "    <tr style=\"text-align: right;\">\n",
       "      <th></th>\n",
       "      <th>Student ID</th>\n",
       "      <th>student_name</th>\n",
       "      <th>gender</th>\n",
       "      <th>grade</th>\n",
       "      <th>school_name</th>\n",
       "      <th>reading_score</th>\n",
       "      <th>math_score</th>\n",
       "    </tr>\n",
       "  </thead>\n",
       "  <tbody>\n",
       "    <tr>\n",
       "      <th>0</th>\n",
       "      <td>3694</td>\n",
       "      <td>Melissa Dyer</td>\n",
       "      <td>F</td>\n",
       "      <td>12th</td>\n",
       "      <td>Figueroa High School</td>\n",
       "      <td>99</td>\n",
       "      <td>99</td>\n",
       "    </tr>\n",
       "    <tr>\n",
       "      <th>1</th>\n",
       "      <td>4269</td>\n",
       "      <td>Michael Stein Jr.</td>\n",
       "      <td>M</td>\n",
       "      <td>12th</td>\n",
       "      <td>Figueroa High School</td>\n",
       "      <td>99</td>\n",
       "      <td>99</td>\n",
       "    </tr>\n",
       "    <tr>\n",
       "      <th>2</th>\n",
       "      <td>6372</td>\n",
       "      <td>Brandon Francis</td>\n",
       "      <td>M</td>\n",
       "      <td>10th</td>\n",
       "      <td>Shelton High School</td>\n",
       "      <td>99</td>\n",
       "      <td>99</td>\n",
       "    </tr>\n",
       "    <tr>\n",
       "      <th>3</th>\n",
       "      <td>7117</td>\n",
       "      <td>Carol Robinson</td>\n",
       "      <td>F</td>\n",
       "      <td>10th</td>\n",
       "      <td>Shelton High School</td>\n",
       "      <td>99</td>\n",
       "      <td>99</td>\n",
       "    </tr>\n",
       "    <tr>\n",
       "      <th>4</th>\n",
       "      <td>7955</td>\n",
       "      <td>Jennifer Morris</td>\n",
       "      <td>F</td>\n",
       "      <td>9th</td>\n",
       "      <td>Hernandez High School</td>\n",
       "      <td>99</td>\n",
       "      <td>99</td>\n",
       "    </tr>\n",
       "  </tbody>\n",
       "</table>\n",
       "</div>"
      ],
      "text/plain": [
       "   Student ID       student_name gender grade            school_name  \\\n",
       "0        3694       Melissa Dyer      F  12th   Figueroa High School   \n",
       "1        4269  Michael Stein Jr.      M  12th   Figueroa High School   \n",
       "2        6372    Brandon Francis      M  10th    Shelton High School   \n",
       "3        7117     Carol Robinson      F  10th    Shelton High School   \n",
       "4        7955    Jennifer Morris      F   9th  Hernandez High School   \n",
       "\n",
       "   reading_score  math_score  \n",
       "0             99          99  \n",
       "1             99          99  \n",
       "2             99          99  \n",
       "3             99          99  \n",
       "4             99          99  "
      ]
     },
     "execution_count": 2,
     "metadata": {},
     "output_type": "execute_result"
    }
   ],
   "source": [
    "# Dependencies and Setup\n",
    "import pandas as pd\n",
    "import numpy as np\n",
    "# File to Load (Remember to change the path if needed.)\n",
    "school_data_to_load = \"Resources/schools_complete.csv\"\n",
    "student_data_to_load = \"Resources/students_complete.csv\"\n",
    "\n",
    "# Read the School Data and Student Data and store into a Pandas DataFrame\n",
    "school_data_df = pd.read_csv(school_data_to_load)\n",
    "student_data_df = pd.read_csv(student_data_to_load)\n",
    "\n",
    "# Cleaning Student Names and Replacing Substrings in a Python String\n",
    "# Add each prefix and suffix to remove to a list.\n",
    "prefixes_suffixes = [\"Dr. \", \"Mr. \",\"Ms. \", \"Mrs. \", \"Miss \", \" MD\", \" DDS\", \" DVM\", \" PhD\"]\n",
    "\n",
    "# Iterate through the words in the \"prefixes_suffixes\" list and replace them with an empty space, \"\".\n",
    "for word in prefixes_suffixes:\n",
    "    student_data_df[\"student_name\"] = student_data_df[\"student_name\"].str.replace(word,\"\" , regex = True)\n",
    "\n",
    "# Check names.\n",
    "student_data_df.head()"
   ]
  },
  {
   "cell_type": "markdown",
   "id": "095668a4",
   "metadata": {},
   "source": [
    "## Deliverable 1: Replace the reading and math scores.\n",
    "\n",
    "### Replace the 9th grade reading and math scores at Thomas High School with NaN."
   ]
  },
  {
   "cell_type": "code",
   "execution_count": 3,
   "id": "3f87dde0",
   "metadata": {},
   "outputs": [],
   "source": [
    "# Install numpy using conda install numpy or pip install numpy. \n",
    "# Step 1. Import numpy as np.\n",
    "import numpy as np"
   ]
  },
  {
   "cell_type": "code",
   "execution_count": 4,
   "id": "dfddfc97",
   "metadata": {},
   "outputs": [],
   "source": [
    "# # Step 2. Use the loc method on the student_data_df to select all the reading scores from the 9th grade at Thomas High School \n",
    "# and replace them with NaN.\n",
    "\n",
    "student_data_df.loc[(student_data_df[\"school_name\"] == \"Thomas High School\") & (student_data_df[\"grade\"] == \"9th\"), [\"reading_score\"]] = np.nan\n"
   ]
  },
  {
   "cell_type": "code",
   "execution_count": 5,
   "id": "f8fe990c",
   "metadata": {},
   "outputs": [],
   "source": [
    "#  Step 3. Refactor the code in Step 2 to replace the math scores with NaN.\n",
    "student_data_df.loc[(student_data_df[\"school_name\"] == \"Thomas High School\") & (student_data_df[\"grade\"] == \"9th\"), [\"math_score\"]] = np.nan\n"
   ]
  },
  {
   "cell_type": "code",
   "execution_count": 6,
   "id": "24789182",
   "metadata": {},
   "outputs": [
    {
     "data": {
      "text/html": [
       "<div>\n",
       "<style scoped>\n",
       "    .dataframe tbody tr th:only-of-type {\n",
       "        vertical-align: middle;\n",
       "    }\n",
       "\n",
       "    .dataframe tbody tr th {\n",
       "        vertical-align: top;\n",
       "    }\n",
       "\n",
       "    .dataframe thead th {\n",
       "        text-align: right;\n",
       "    }\n",
       "</style>\n",
       "<table border=\"1\" class=\"dataframe\">\n",
       "  <thead>\n",
       "    <tr style=\"text-align: right;\">\n",
       "      <th></th>\n",
       "      <th>Student ID</th>\n",
       "      <th>student_name</th>\n",
       "      <th>gender</th>\n",
       "      <th>grade</th>\n",
       "      <th>school_name</th>\n",
       "      <th>reading_score</th>\n",
       "      <th>math_score</th>\n",
       "    </tr>\n",
       "  </thead>\n",
       "  <tbody>\n",
       "    <tr>\n",
       "      <th>19</th>\n",
       "      <td>37635</td>\n",
       "      <td>George Morgan</td>\n",
       "      <td>M</td>\n",
       "      <td>9th</td>\n",
       "      <td>Thomas High School</td>\n",
       "      <td>NaN</td>\n",
       "      <td>NaN</td>\n",
       "    </tr>\n",
       "    <tr>\n",
       "      <th>105</th>\n",
       "      <td>38354</td>\n",
       "      <td>Kevin Costa</td>\n",
       "      <td>M</td>\n",
       "      <td>9th</td>\n",
       "      <td>Thomas High School</td>\n",
       "      <td>NaN</td>\n",
       "      <td>NaN</td>\n",
       "    </tr>\n",
       "    <tr>\n",
       "      <th>107</th>\n",
       "      <td>38538</td>\n",
       "      <td>Lisa Price</td>\n",
       "      <td>F</td>\n",
       "      <td>9th</td>\n",
       "      <td>Thomas High School</td>\n",
       "      <td>NaN</td>\n",
       "      <td>NaN</td>\n",
       "    </tr>\n",
       "    <tr>\n",
       "      <th>138</th>\n",
       "      <td>37704</td>\n",
       "      <td>Matthew Mitchell III</td>\n",
       "      <td>M</td>\n",
       "      <td>9th</td>\n",
       "      <td>Thomas High School</td>\n",
       "      <td>NaN</td>\n",
       "      <td>NaN</td>\n",
       "    </tr>\n",
       "    <tr>\n",
       "      <th>141</th>\n",
       "      <td>38558</td>\n",
       "      <td>Ryan Fernandez</td>\n",
       "      <td>M</td>\n",
       "      <td>9th</td>\n",
       "      <td>Thomas High School</td>\n",
       "      <td>NaN</td>\n",
       "      <td>NaN</td>\n",
       "    </tr>\n",
       "  </tbody>\n",
       "</table>\n",
       "</div>"
      ],
      "text/plain": [
       "     Student ID          student_name gender grade         school_name  \\\n",
       "19        37635         George Morgan      M   9th  Thomas High School   \n",
       "105       38354           Kevin Costa      M   9th  Thomas High School   \n",
       "107       38538            Lisa Price      F   9th  Thomas High School   \n",
       "138       37704  Matthew Mitchell III      M   9th  Thomas High School   \n",
       "141       38558        Ryan Fernandez      M   9th  Thomas High School   \n",
       "\n",
       "     reading_score  math_score  \n",
       "19             NaN         NaN  \n",
       "105            NaN         NaN  \n",
       "107            NaN         NaN  \n",
       "138            NaN         NaN  \n",
       "141            NaN         NaN  "
      ]
     },
     "execution_count": 6,
     "metadata": {},
     "output_type": "execute_result"
    }
   ],
   "source": [
    "#  Step 4. Check the student data for NaN's. \n",
    "\n",
    "nan_grades = student_data_df[(student_data_df['school_name'] == \"Thomas High School\") & (student_data_df['grade'] == \"9th\")]\n",
    "\n",
    "nan_grades.head()"
   ]
  },
  {
   "cell_type": "markdown",
   "id": "0517028b",
   "metadata": {},
   "source": [
    "## Deliverable 2 : Repeat the school district analysis"
   ]
  },
  {
   "cell_type": "markdown",
   "id": "dd8048f7",
   "metadata": {},
   "source": [
    "### District Summary"
   ]
  },
  {
   "cell_type": "code",
   "execution_count": 41,
   "id": "e3b802c8",
   "metadata": {},
   "outputs": [
    {
     "data": {
      "text/html": [
       "<div>\n",
       "<style scoped>\n",
       "    .dataframe tbody tr th:only-of-type {\n",
       "        vertical-align: middle;\n",
       "    }\n",
       "\n",
       "    .dataframe tbody tr th {\n",
       "        vertical-align: top;\n",
       "    }\n",
       "\n",
       "    .dataframe thead th {\n",
       "        text-align: right;\n",
       "    }\n",
       "</style>\n",
       "<table border=\"1\" class=\"dataframe\">\n",
       "  <thead>\n",
       "    <tr style=\"text-align: right;\">\n",
       "      <th></th>\n",
       "      <th>Student ID</th>\n",
       "      <th>student_name</th>\n",
       "      <th>gender</th>\n",
       "      <th>grade</th>\n",
       "      <th>school_name</th>\n",
       "      <th>reading_score</th>\n",
       "      <th>math_score</th>\n",
       "      <th>School ID</th>\n",
       "      <th>type</th>\n",
       "      <th>size</th>\n",
       "      <th>budget</th>\n",
       "    </tr>\n",
       "  </thead>\n",
       "  <tbody>\n",
       "    <tr>\n",
       "      <th>0</th>\n",
       "      <td>3694</td>\n",
       "      <td>Melissa Dyer</td>\n",
       "      <td>F</td>\n",
       "      <td>12th</td>\n",
       "      <td>Figueroa High School</td>\n",
       "      <td>99.0</td>\n",
       "      <td>99.0</td>\n",
       "      <td>1</td>\n",
       "      <td>District</td>\n",
       "      <td>2949</td>\n",
       "      <td>1884411</td>\n",
       "    </tr>\n",
       "    <tr>\n",
       "      <th>1</th>\n",
       "      <td>4269</td>\n",
       "      <td>Michael Stein Jr.</td>\n",
       "      <td>M</td>\n",
       "      <td>12th</td>\n",
       "      <td>Figueroa High School</td>\n",
       "      <td>99.0</td>\n",
       "      <td>99.0</td>\n",
       "      <td>1</td>\n",
       "      <td>District</td>\n",
       "      <td>2949</td>\n",
       "      <td>1884411</td>\n",
       "    </tr>\n",
       "    <tr>\n",
       "      <th>2</th>\n",
       "      <td>6372</td>\n",
       "      <td>Brandon Francis</td>\n",
       "      <td>M</td>\n",
       "      <td>10th</td>\n",
       "      <td>Shelton High School</td>\n",
       "      <td>99.0</td>\n",
       "      <td>99.0</td>\n",
       "      <td>2</td>\n",
       "      <td>Charter</td>\n",
       "      <td>1761</td>\n",
       "      <td>1056600</td>\n",
       "    </tr>\n",
       "    <tr>\n",
       "      <th>3</th>\n",
       "      <td>7117</td>\n",
       "      <td>Carol Robinson</td>\n",
       "      <td>F</td>\n",
       "      <td>10th</td>\n",
       "      <td>Shelton High School</td>\n",
       "      <td>99.0</td>\n",
       "      <td>99.0</td>\n",
       "      <td>2</td>\n",
       "      <td>Charter</td>\n",
       "      <td>1761</td>\n",
       "      <td>1056600</td>\n",
       "    </tr>\n",
       "    <tr>\n",
       "      <th>4</th>\n",
       "      <td>7955</td>\n",
       "      <td>Jennifer Morris</td>\n",
       "      <td>F</td>\n",
       "      <td>9th</td>\n",
       "      <td>Hernandez High School</td>\n",
       "      <td>99.0</td>\n",
       "      <td>99.0</td>\n",
       "      <td>3</td>\n",
       "      <td>District</td>\n",
       "      <td>4635</td>\n",
       "      <td>3022020</td>\n",
       "    </tr>\n",
       "  </tbody>\n",
       "</table>\n",
       "</div>"
      ],
      "text/plain": [
       "   Student ID       student_name gender grade            school_name  \\\n",
       "0        3694       Melissa Dyer      F  12th   Figueroa High School   \n",
       "1        4269  Michael Stein Jr.      M  12th   Figueroa High School   \n",
       "2        6372    Brandon Francis      M  10th    Shelton High School   \n",
       "3        7117     Carol Robinson      F  10th    Shelton High School   \n",
       "4        7955    Jennifer Morris      F   9th  Hernandez High School   \n",
       "\n",
       "   reading_score  math_score  School ID      type  size   budget  \n",
       "0           99.0        99.0          1  District  2949  1884411  \n",
       "1           99.0        99.0          1  District  2949  1884411  \n",
       "2           99.0        99.0          2   Charter  1761  1056600  \n",
       "3           99.0        99.0          2   Charter  1761  1056600  \n",
       "4           99.0        99.0          3  District  4635  3022020  "
      ]
     },
     "execution_count": 41,
     "metadata": {},
     "output_type": "execute_result"
    }
   ],
   "source": [
    "# Combine the data into a single dataset\n",
    "school_data_complete_df = pd.merge(student_data_df, school_data_df, how=\"left\", on=[\"school_name\", \"school_name\"])\n",
    "school_data_complete_df.head()"
   ]
  },
  {
   "cell_type": "code",
   "execution_count": 8,
   "id": "c2f24bb4",
   "metadata": {},
   "outputs": [
    {
     "data": {
      "text/plain": [
       "24649428"
      ]
     },
     "execution_count": 8,
     "metadata": {},
     "output_type": "execute_result"
    }
   ],
   "source": [
    "# Calculate the Totals (Schools and Students)\n",
    "school_count = len(school_data_complete_df[\"school_name\"].unique())\n",
    "student_count = school_data_complete_df[\"Student ID\"].count()\n",
    "\n",
    "# Calculate the Total Budget\n",
    "total_budget = school_data_df[\"budget\"].sum()\n",
    "\n",
    "total_budget"
   ]
  },
  {
   "cell_type": "code",
   "execution_count": 9,
   "id": "975189c0",
   "metadata": {},
   "outputs": [],
   "source": [
    "# Calculate the Average Scores using the \"clean_student_data\".\n",
    "average_reading_score = school_data_complete_df[\"reading_score\"].mean()\n",
    "average_math_score = school_data_complete_df[\"math_score\"].mean()"
   ]
  },
  {
   "cell_type": "code",
   "execution_count": 10,
   "id": "556b1c74",
   "metadata": {},
   "outputs": [
    {
     "data": {
      "text/plain": [
       "81.85579580976001"
      ]
     },
     "execution_count": 10,
     "metadata": {},
     "output_type": "execute_result"
    }
   ],
   "source": [
    "#print average reading score\n",
    "average_reading_score"
   ]
  },
  {
   "cell_type": "code",
   "execution_count": 11,
   "id": "8f563f49",
   "metadata": {},
   "outputs": [
    {
     "data": {
      "text/plain": [
       "78.93053295099331"
      ]
     },
     "execution_count": 11,
     "metadata": {},
     "output_type": "execute_result"
    }
   ],
   "source": [
    "#print average math score\n",
    "average_math_score"
   ]
  },
  {
   "cell_type": "code",
   "execution_count": 12,
   "id": "5e104e5b",
   "metadata": {},
   "outputs": [
    {
     "data": {
      "text/plain": [
       "student_name    461\n",
       "dtype: int64"
      ]
     },
     "execution_count": 12,
     "metadata": {},
     "output_type": "execute_result"
    }
   ],
   "source": [
    "# Step 1. Get the number of students that are in ninth grade at Thomas High School.\n",
    "# These students have no grades. \n",
    "\n",
    "ths_9th_stu_count = school_data_complete_df.loc[\n",
    "    (school_data_complete_df[\"school_name\"] == \"Thomas High School\") & (school_data_complete_df[\"grade\"] == \"9th\"), [\"student_name\"]\n",
    "].count()\n",
    "\n",
    "ths_9th_stu_count"
   ]
  },
  {
   "cell_type": "code",
   "execution_count": 13,
   "id": "e712a64b",
   "metadata": {},
   "outputs": [
    {
     "data": {
      "text/plain": [
       "39170"
      ]
     },
     "execution_count": 13,
     "metadata": {},
     "output_type": "execute_result"
    }
   ],
   "source": [
    "# Get the total student count \n",
    "student_count = school_data_complete_df[\"student_name\"].count()\n",
    "\n",
    "student_count"
   ]
  },
  {
   "cell_type": "code",
   "execution_count": 14,
   "id": "f3254c73",
   "metadata": {},
   "outputs": [
    {
     "data": {
      "text/plain": [
       "student_name    38709\n",
       "dtype: int64"
      ]
     },
     "execution_count": 14,
     "metadata": {},
     "output_type": "execute_result"
    }
   ],
   "source": [
    "# Step 2. Subtract the number of students that are in ninth grade at \n",
    "# Thomas High School from the total student count to get the new total student count.\n",
    "\n",
    "clean_student_data = student_count - ths_9th_stu_count\n",
    "\n",
    "clean_student_data"
   ]
  },
  {
   "cell_type": "code",
   "execution_count": 15,
   "id": "2a990509",
   "metadata": {},
   "outputs": [],
   "source": [
    "# Calculate the passing rates using the \"clean_student_data\".\n",
    "passing_math_count = school_data_complete_df[(school_data_complete_df[\"math_score\"] >= 70)].count()[\"student_name\"]\n",
    "passing_reading_count = school_data_complete_df[(school_data_complete_df[\"reading_score\"] >= 70)].count()[\"student_name\"]"
   ]
  },
  {
   "cell_type": "code",
   "execution_count": 16,
   "id": "6865d2ab",
   "metadata": {},
   "outputs": [
    {
     "data": {
      "text/plain": [
       "28939"
      ]
     },
     "execution_count": 16,
     "metadata": {},
     "output_type": "execute_result"
    }
   ],
   "source": [
    "#passing math count\n",
    "passing_math_count"
   ]
  },
  {
   "cell_type": "code",
   "execution_count": 17,
   "id": "3cfba361",
   "metadata": {},
   "outputs": [
    {
     "data": {
      "text/plain": [
       "33158"
      ]
     },
     "execution_count": 17,
     "metadata": {},
     "output_type": "execute_result"
    }
   ],
   "source": [
    "#passing reading count\n",
    "passing_reading_count"
   ]
  },
  {
   "cell_type": "code",
   "execution_count": 18,
   "id": "a328550a",
   "metadata": {},
   "outputs": [
    {
     "data": {
      "text/plain": [
       "74.76039164018704"
      ]
     },
     "execution_count": 18,
     "metadata": {},
     "output_type": "execute_result"
    }
   ],
   "source": [
    "# Step 3. Calculate the passing percentages with the new total student count.\n",
    "\n",
    "#passing math percentage\n",
    "passing_math_percentage = passing_math_count / float(clean_student_data) * 100\n",
    "\n",
    "passing_math_percentage"
   ]
  },
  {
   "cell_type": "code",
   "execution_count": 19,
   "id": "c1f1a31a",
   "metadata": {},
   "outputs": [
    {
     "data": {
      "text/plain": [
       "85.6596657108166"
      ]
     },
     "execution_count": 19,
     "metadata": {},
     "output_type": "execute_result"
    }
   ],
   "source": [
    "#passing reading percentage\n",
    "\n",
    "passing_reading_percentage = passing_reading_count / float(clean_student_data) * 100\n",
    "\n",
    "passing_reading_percentage"
   ]
  },
  {
   "cell_type": "code",
   "execution_count": 20,
   "id": "8affb3cd",
   "metadata": {},
   "outputs": [
    {
     "data": {
      "text/plain": [
       "64.85571830840374"
      ]
     },
     "execution_count": 20,
     "metadata": {},
     "output_type": "execute_result"
    }
   ],
   "source": [
    "# Calculate the students who passed both reading and math.\n",
    "passing_math_reading = school_data_complete_df[(school_data_complete_df[\"math_score\"] >= 70) & (school_data_complete_df[\"reading_score\"] >= 70)]\n",
    "\n",
    "# Calculate the number of students that passed both reading and math.\n",
    "overall_passing_math_reading_count = passing_math_reading[\"student_name\"].count()\n",
    "\n",
    "\n",
    "# Step 4.Calculate the overall passing percentage with new total student count.\n",
    "\n",
    "overall_passing_percentage = overall_passing_math_reading_count / float(clean_student_data) * 100\n",
    "\n",
    "overall_passing_percentage"
   ]
  },
  {
   "cell_type": "code",
   "execution_count": 21,
   "id": "a06d78fa",
   "metadata": {},
   "outputs": [
    {
     "data": {
      "text/html": [
       "<div>\n",
       "<style scoped>\n",
       "    .dataframe tbody tr th:only-of-type {\n",
       "        vertical-align: middle;\n",
       "    }\n",
       "\n",
       "    .dataframe tbody tr th {\n",
       "        vertical-align: top;\n",
       "    }\n",
       "\n",
       "    .dataframe thead th {\n",
       "        text-align: right;\n",
       "    }\n",
       "</style>\n",
       "<table border=\"1\" class=\"dataframe\">\n",
       "  <thead>\n",
       "    <tr style=\"text-align: right;\">\n",
       "      <th></th>\n",
       "      <th>Total Schools</th>\n",
       "      <th>Total Students</th>\n",
       "      <th>Total Budget</th>\n",
       "      <th>Average Math Score</th>\n",
       "      <th>Average Reading Score</th>\n",
       "      <th>% Passing Math</th>\n",
       "      <th>% Passing Reading</th>\n",
       "      <th>% Overall Passing</th>\n",
       "    </tr>\n",
       "  </thead>\n",
       "  <tbody>\n",
       "    <tr>\n",
       "      <th>0</th>\n",
       "      <td>15</td>\n",
       "      <td>39,170</td>\n",
       "      <td>$24,649,428.00</td>\n",
       "      <td>78.9</td>\n",
       "      <td>81.9</td>\n",
       "      <td>74.8</td>\n",
       "      <td>85.7</td>\n",
       "      <td>64.9</td>\n",
       "    </tr>\n",
       "  </tbody>\n",
       "</table>\n",
       "</div>"
      ],
      "text/plain": [
       "   Total Schools Total Students    Total Budget Average Math Score  \\\n",
       "0             15         39,170  $24,649,428.00               78.9   \n",
       "\n",
       "  Average Reading Score % Passing Math % Passing Reading % Overall Passing  \n",
       "0                  81.9           74.8              85.7              64.9  "
      ]
     },
     "execution_count": 21,
     "metadata": {},
     "output_type": "execute_result"
    }
   ],
   "source": [
    "# Create a DataFrame\n",
    "district_summary_df = pd.DataFrame(\n",
    "          [{\"Total Schools\": school_count, \n",
    "          \"Total Students\": student_count, \n",
    "          \"Total Budget\": total_budget,\n",
    "          \"Average Math Score\": average_math_score, \n",
    "          \"Average Reading Score\": average_reading_score,\n",
    "          \"% Passing Math\": passing_math_percentage,\n",
    "         \"% Passing Reading\": passing_reading_percentage,\n",
    "        \"% Overall Passing\": overall_passing_percentage}])\n",
    "\n",
    "\n",
    "\n",
    "# Format the \"Total Students\" to have the comma for a thousands separator.\n",
    "district_summary_df[\"Total Students\"] = district_summary_df[\"Total Students\"].map(\"{:,}\".format)\n",
    "# Format the \"Total Budget\" to have the comma for a thousands separator, a decimal separator and a \"$\".\n",
    "district_summary_df[\"Total Budget\"] = district_summary_df[\"Total Budget\"].map(\"${:,.2f}\".format)\n",
    "# Format the columns.\n",
    "district_summary_df[\"Average Math Score\"] = district_summary_df[\"Average Math Score\"].map(\"{:.1f}\".format)\n",
    "district_summary_df[\"Average Reading Score\"] = district_summary_df[\"Average Reading Score\"].map(\"{:.1f}\".format)\n",
    "district_summary_df[\"% Passing Math\"] = district_summary_df[\"% Passing Math\"].map(\"{:.1f}\".format)\n",
    "district_summary_df[\"% Passing Reading\"] = district_summary_df[\"% Passing Reading\"].map(\"{:.1f}\".format)\n",
    "district_summary_df[\"% Overall Passing\"] = district_summary_df[\"% Overall Passing\"].map(\"{:.1f}\".format)\n",
    "\n",
    "# Display the data frame\n",
    "district_summary_df"
   ]
  },
  {
   "cell_type": "markdown",
   "id": "a34e0537",
   "metadata": {},
   "source": [
    "##  School Summary"
   ]
  },
  {
   "cell_type": "code",
   "execution_count": 22,
   "id": "c56271ae",
   "metadata": {},
   "outputs": [],
   "source": [
    "# Determine the School Type\n",
    "per_school_types = school_data_df.set_index([\"school_name\"])[\"type\"]\n",
    "\n",
    "# Calculate the total student count.\n",
    "per_school_counts = school_data_complete_df[\"school_name\"].value_counts()\n",
    "\n",
    "# Calculate the total school budget and per capita spending\n",
    "per_school_budget = school_data_complete_df.groupby([\"school_name\"]).mean()[\"budget\"]\n",
    "# Calculate the per capita spending.\n",
    "per_school_capita = per_school_budget / per_school_counts\n",
    "\n",
    "# Calculate the average test scores.\n",
    "per_school_math = school_data_complete_df.groupby([\"school_name\"]).mean()[\"math_score\"]\n",
    "per_school_reading = school_data_complete_df.groupby([\"school_name\"]).mean()[\"reading_score\"]\n",
    "\n",
    "# Calculate the passing scores by creating a filtered DataFrame.\n",
    "per_school_passing_math = school_data_complete_df[(school_data_complete_df[\"math_score\"] >= 70)]\n",
    "per_school_passing_reading = school_data_complete_df[(school_data_complete_df[\"reading_score\"] >= 70)]\n",
    "\n",
    "# Calculate the number of students passing math and passing reading by school.\n",
    "per_school_passing_math = per_school_passing_math.groupby([\"school_name\"]).count()[\"student_name\"]\n",
    "per_school_passing_reading = per_school_passing_reading.groupby([\"school_name\"]).count()[\"student_name\"]\n",
    "\n",
    "# Calculate the percentage of passing math and reading scores per school.\n",
    "per_school_passing_math = per_school_passing_math / per_school_counts * 100\n",
    "per_school_passing_reading = per_school_passing_reading / per_school_counts * 100\n",
    "\n",
    "# Calculate the students who passed both reading and math.\n",
    "per_passing_math_reading = school_data_complete_df[(school_data_complete_df[\"reading_score\"] >= 70)\n",
    "                                               & (school_data_complete_df[\"math_score\"] >= 70)]\n",
    "\n",
    "# Calculate the number of students passing math and passing reading by school.\n",
    "per_passing_math_reading = per_passing_math_reading.groupby([\"school_name\"]).count()[\"student_name\"]\n",
    "\n",
    "# Calculate the percentage of passing math and reading scores per school.\n",
    "per_overall_passing_percentage = per_passing_math_reading / per_school_counts * 100"
   ]
  },
  {
   "cell_type": "code",
   "execution_count": 23,
   "id": "b19f4a8c",
   "metadata": {},
   "outputs": [
    {
     "data": {
      "text/html": [
       "<div>\n",
       "<style scoped>\n",
       "    .dataframe tbody tr th:only-of-type {\n",
       "        vertical-align: middle;\n",
       "    }\n",
       "\n",
       "    .dataframe tbody tr th {\n",
       "        vertical-align: top;\n",
       "    }\n",
       "\n",
       "    .dataframe thead th {\n",
       "        text-align: right;\n",
       "    }\n",
       "</style>\n",
       "<table border=\"1\" class=\"dataframe\">\n",
       "  <thead>\n",
       "    <tr style=\"text-align: right;\">\n",
       "      <th></th>\n",
       "      <th>School Type</th>\n",
       "      <th>Total Students</th>\n",
       "      <th>Total School Budget</th>\n",
       "      <th>Per Student Budget</th>\n",
       "      <th>Average Math Score</th>\n",
       "      <th>Average Reading Score</th>\n",
       "      <th>% Passing Math</th>\n",
       "      <th>% Passing Reading</th>\n",
       "      <th>% Overall Passing</th>\n",
       "    </tr>\n",
       "  </thead>\n",
       "  <tbody>\n",
       "    <tr>\n",
       "      <th>Bailey High School</th>\n",
       "      <td>District</td>\n",
       "      <td>4976</td>\n",
       "      <td>3124928.0</td>\n",
       "      <td>628.0</td>\n",
       "      <td>77.048432</td>\n",
       "      <td>81.033963</td>\n",
       "      <td>66.680064</td>\n",
       "      <td>81.933280</td>\n",
       "      <td>54.642283</td>\n",
       "    </tr>\n",
       "    <tr>\n",
       "      <th>Cabrera High School</th>\n",
       "      <td>Charter</td>\n",
       "      <td>1858</td>\n",
       "      <td>1081356.0</td>\n",
       "      <td>582.0</td>\n",
       "      <td>83.061895</td>\n",
       "      <td>83.975780</td>\n",
       "      <td>94.133477</td>\n",
       "      <td>97.039828</td>\n",
       "      <td>91.334769</td>\n",
       "    </tr>\n",
       "    <tr>\n",
       "      <th>Figueroa High School</th>\n",
       "      <td>District</td>\n",
       "      <td>2949</td>\n",
       "      <td>1884411.0</td>\n",
       "      <td>639.0</td>\n",
       "      <td>76.711767</td>\n",
       "      <td>81.158020</td>\n",
       "      <td>65.988471</td>\n",
       "      <td>80.739234</td>\n",
       "      <td>53.204476</td>\n",
       "    </tr>\n",
       "    <tr>\n",
       "      <th>Ford High School</th>\n",
       "      <td>District</td>\n",
       "      <td>2739</td>\n",
       "      <td>1763916.0</td>\n",
       "      <td>644.0</td>\n",
       "      <td>77.102592</td>\n",
       "      <td>80.746258</td>\n",
       "      <td>68.309602</td>\n",
       "      <td>79.299014</td>\n",
       "      <td>54.289887</td>\n",
       "    </tr>\n",
       "    <tr>\n",
       "      <th>Griffin High School</th>\n",
       "      <td>Charter</td>\n",
       "      <td>1468</td>\n",
       "      <td>917500.0</td>\n",
       "      <td>625.0</td>\n",
       "      <td>83.351499</td>\n",
       "      <td>83.816757</td>\n",
       "      <td>93.392371</td>\n",
       "      <td>97.138965</td>\n",
       "      <td>90.599455</td>\n",
       "    </tr>\n",
       "  </tbody>\n",
       "</table>\n",
       "</div>"
      ],
      "text/plain": [
       "                     School Type  Total Students  Total School Budget  \\\n",
       "Bailey High School      District            4976            3124928.0   \n",
       "Cabrera High School      Charter            1858            1081356.0   \n",
       "Figueroa High School    District            2949            1884411.0   \n",
       "Ford High School        District            2739            1763916.0   \n",
       "Griffin High School      Charter            1468             917500.0   \n",
       "\n",
       "                      Per Student Budget  Average Math Score  \\\n",
       "Bailey High School                 628.0           77.048432   \n",
       "Cabrera High School                582.0           83.061895   \n",
       "Figueroa High School               639.0           76.711767   \n",
       "Ford High School                   644.0           77.102592   \n",
       "Griffin High School                625.0           83.351499   \n",
       "\n",
       "                      Average Reading Score  % Passing Math  \\\n",
       "Bailey High School                81.033963       66.680064   \n",
       "Cabrera High School               83.975780       94.133477   \n",
       "Figueroa High School              81.158020       65.988471   \n",
       "Ford High School                  80.746258       68.309602   \n",
       "Griffin High School               83.816757       93.392371   \n",
       "\n",
       "                      % Passing Reading  % Overall Passing  \n",
       "Bailey High School            81.933280          54.642283  \n",
       "Cabrera High School           97.039828          91.334769  \n",
       "Figueroa High School          80.739234          53.204476  \n",
       "Ford High School              79.299014          54.289887  \n",
       "Griffin High School           97.138965          90.599455  "
      ]
     },
     "execution_count": 23,
     "metadata": {},
     "output_type": "execute_result"
    }
   ],
   "source": [
    "# Create the DataFrame\n",
    "per_school_summary_df = pd.DataFrame({\n",
    "    \"School Type\": per_school_types,\n",
    "    \"Total Students\": per_school_counts,\n",
    "    \"Total School Budget\": per_school_budget,\n",
    "    \"Per Student Budget\": per_school_capita,\n",
    "    \"Average Math Score\": per_school_math,\n",
    "    \"Average Reading Score\": per_school_reading,\n",
    "    \"% Passing Math\": per_school_passing_math,\n",
    "    \"% Passing Reading\": per_school_passing_reading,\n",
    "    \"% Overall Passing\": per_overall_passing_percentage})\n",
    "\n",
    "\n",
    "# per_school_summary_df.head()\n",
    "per_school_summary_df.head()"
   ]
  },
  {
   "cell_type": "code",
   "execution_count": 24,
   "id": "ad60481f",
   "metadata": {},
   "outputs": [
    {
     "data": {
      "text/html": [
       "<div>\n",
       "<style scoped>\n",
       "    .dataframe tbody tr th:only-of-type {\n",
       "        vertical-align: middle;\n",
       "    }\n",
       "\n",
       "    .dataframe tbody tr th {\n",
       "        vertical-align: top;\n",
       "    }\n",
       "\n",
       "    .dataframe thead th {\n",
       "        text-align: right;\n",
       "    }\n",
       "</style>\n",
       "<table border=\"1\" class=\"dataframe\">\n",
       "  <thead>\n",
       "    <tr style=\"text-align: right;\">\n",
       "      <th></th>\n",
       "      <th>School Type</th>\n",
       "      <th>Total Students</th>\n",
       "      <th>Total School Budget</th>\n",
       "      <th>Per Student Budget</th>\n",
       "      <th>Average Math Score</th>\n",
       "      <th>Average Reading Score</th>\n",
       "      <th>% Passing Math</th>\n",
       "      <th>% Passing Reading</th>\n",
       "      <th>% Overall Passing</th>\n",
       "    </tr>\n",
       "  </thead>\n",
       "  <tbody>\n",
       "    <tr>\n",
       "      <th>Bailey High School</th>\n",
       "      <td>District</td>\n",
       "      <td>4976</td>\n",
       "      <td>$3,124,928.00</td>\n",
       "      <td>$628.00</td>\n",
       "      <td>77.048432</td>\n",
       "      <td>81.033963</td>\n",
       "      <td>66.680064</td>\n",
       "      <td>81.933280</td>\n",
       "      <td>54.642283</td>\n",
       "    </tr>\n",
       "    <tr>\n",
       "      <th>Cabrera High School</th>\n",
       "      <td>Charter</td>\n",
       "      <td>1858</td>\n",
       "      <td>$1,081,356.00</td>\n",
       "      <td>$582.00</td>\n",
       "      <td>83.061895</td>\n",
       "      <td>83.975780</td>\n",
       "      <td>94.133477</td>\n",
       "      <td>97.039828</td>\n",
       "      <td>91.334769</td>\n",
       "    </tr>\n",
       "    <tr>\n",
       "      <th>Figueroa High School</th>\n",
       "      <td>District</td>\n",
       "      <td>2949</td>\n",
       "      <td>$1,884,411.00</td>\n",
       "      <td>$639.00</td>\n",
       "      <td>76.711767</td>\n",
       "      <td>81.158020</td>\n",
       "      <td>65.988471</td>\n",
       "      <td>80.739234</td>\n",
       "      <td>53.204476</td>\n",
       "    </tr>\n",
       "    <tr>\n",
       "      <th>Ford High School</th>\n",
       "      <td>District</td>\n",
       "      <td>2739</td>\n",
       "      <td>$1,763,916.00</td>\n",
       "      <td>$644.00</td>\n",
       "      <td>77.102592</td>\n",
       "      <td>80.746258</td>\n",
       "      <td>68.309602</td>\n",
       "      <td>79.299014</td>\n",
       "      <td>54.289887</td>\n",
       "    </tr>\n",
       "    <tr>\n",
       "      <th>Griffin High School</th>\n",
       "      <td>Charter</td>\n",
       "      <td>1468</td>\n",
       "      <td>$917,500.00</td>\n",
       "      <td>$625.00</td>\n",
       "      <td>83.351499</td>\n",
       "      <td>83.816757</td>\n",
       "      <td>93.392371</td>\n",
       "      <td>97.138965</td>\n",
       "      <td>90.599455</td>\n",
       "    </tr>\n",
       "    <tr>\n",
       "      <th>Hernandez High School</th>\n",
       "      <td>District</td>\n",
       "      <td>4635</td>\n",
       "      <td>$3,022,020.00</td>\n",
       "      <td>$652.00</td>\n",
       "      <td>77.289752</td>\n",
       "      <td>80.934412</td>\n",
       "      <td>66.752967</td>\n",
       "      <td>80.862999</td>\n",
       "      <td>53.527508</td>\n",
       "    </tr>\n",
       "    <tr>\n",
       "      <th>Holden High School</th>\n",
       "      <td>Charter</td>\n",
       "      <td>427</td>\n",
       "      <td>$248,087.00</td>\n",
       "      <td>$581.00</td>\n",
       "      <td>83.803279</td>\n",
       "      <td>83.814988</td>\n",
       "      <td>92.505855</td>\n",
       "      <td>96.252927</td>\n",
       "      <td>89.227166</td>\n",
       "    </tr>\n",
       "    <tr>\n",
       "      <th>Huang High School</th>\n",
       "      <td>District</td>\n",
       "      <td>2917</td>\n",
       "      <td>$1,910,635.00</td>\n",
       "      <td>$655.00</td>\n",
       "      <td>76.629414</td>\n",
       "      <td>81.182722</td>\n",
       "      <td>65.683922</td>\n",
       "      <td>81.316421</td>\n",
       "      <td>53.513884</td>\n",
       "    </tr>\n",
       "    <tr>\n",
       "      <th>Johnson High School</th>\n",
       "      <td>District</td>\n",
       "      <td>4761</td>\n",
       "      <td>$3,094,650.00</td>\n",
       "      <td>$650.00</td>\n",
       "      <td>77.072464</td>\n",
       "      <td>80.966394</td>\n",
       "      <td>66.057551</td>\n",
       "      <td>81.222432</td>\n",
       "      <td>53.539172</td>\n",
       "    </tr>\n",
       "    <tr>\n",
       "      <th>Pena High School</th>\n",
       "      <td>Charter</td>\n",
       "      <td>962</td>\n",
       "      <td>$585,858.00</td>\n",
       "      <td>$609.00</td>\n",
       "      <td>83.839917</td>\n",
       "      <td>84.044699</td>\n",
       "      <td>94.594595</td>\n",
       "      <td>95.945946</td>\n",
       "      <td>90.540541</td>\n",
       "    </tr>\n",
       "    <tr>\n",
       "      <th>Rodriguez High School</th>\n",
       "      <td>District</td>\n",
       "      <td>3999</td>\n",
       "      <td>$2,547,363.00</td>\n",
       "      <td>$637.00</td>\n",
       "      <td>76.842711</td>\n",
       "      <td>80.744686</td>\n",
       "      <td>66.366592</td>\n",
       "      <td>80.220055</td>\n",
       "      <td>52.988247</td>\n",
       "    </tr>\n",
       "    <tr>\n",
       "      <th>Shelton High School</th>\n",
       "      <td>Charter</td>\n",
       "      <td>1761</td>\n",
       "      <td>$1,056,600.00</td>\n",
       "      <td>$600.00</td>\n",
       "      <td>83.359455</td>\n",
       "      <td>83.725724</td>\n",
       "      <td>93.867121</td>\n",
       "      <td>95.854628</td>\n",
       "      <td>89.892107</td>\n",
       "    </tr>\n",
       "    <tr>\n",
       "      <th>Thomas High School</th>\n",
       "      <td>Charter</td>\n",
       "      <td>1635</td>\n",
       "      <td>$1,043,130.00</td>\n",
       "      <td>$638.00</td>\n",
       "      <td>83.350937</td>\n",
       "      <td>83.896082</td>\n",
       "      <td>66.911315</td>\n",
       "      <td>69.663609</td>\n",
       "      <td>65.076453</td>\n",
       "    </tr>\n",
       "    <tr>\n",
       "      <th>Wilson High School</th>\n",
       "      <td>Charter</td>\n",
       "      <td>2283</td>\n",
       "      <td>$1,319,574.00</td>\n",
       "      <td>$578.00</td>\n",
       "      <td>83.274201</td>\n",
       "      <td>83.989488</td>\n",
       "      <td>93.867718</td>\n",
       "      <td>96.539641</td>\n",
       "      <td>90.582567</td>\n",
       "    </tr>\n",
       "    <tr>\n",
       "      <th>Wright High School</th>\n",
       "      <td>Charter</td>\n",
       "      <td>1800</td>\n",
       "      <td>$1,049,400.00</td>\n",
       "      <td>$583.00</td>\n",
       "      <td>83.682222</td>\n",
       "      <td>83.955000</td>\n",
       "      <td>93.333333</td>\n",
       "      <td>96.611111</td>\n",
       "      <td>90.333333</td>\n",
       "    </tr>\n",
       "  </tbody>\n",
       "</table>\n",
       "</div>"
      ],
      "text/plain": [
       "                      School Type  Total Students Total School Budget  \\\n",
       "Bailey High School       District            4976       $3,124,928.00   \n",
       "Cabrera High School       Charter            1858       $1,081,356.00   \n",
       "Figueroa High School     District            2949       $1,884,411.00   \n",
       "Ford High School         District            2739       $1,763,916.00   \n",
       "Griffin High School       Charter            1468         $917,500.00   \n",
       "Hernandez High School    District            4635       $3,022,020.00   \n",
       "Holden High School        Charter             427         $248,087.00   \n",
       "Huang High School        District            2917       $1,910,635.00   \n",
       "Johnson High School      District            4761       $3,094,650.00   \n",
       "Pena High School          Charter             962         $585,858.00   \n",
       "Rodriguez High School    District            3999       $2,547,363.00   \n",
       "Shelton High School       Charter            1761       $1,056,600.00   \n",
       "Thomas High School        Charter            1635       $1,043,130.00   \n",
       "Wilson High School        Charter            2283       $1,319,574.00   \n",
       "Wright High School        Charter            1800       $1,049,400.00   \n",
       "\n",
       "                      Per Student Budget  Average Math Score  \\\n",
       "Bailey High School               $628.00           77.048432   \n",
       "Cabrera High School              $582.00           83.061895   \n",
       "Figueroa High School             $639.00           76.711767   \n",
       "Ford High School                 $644.00           77.102592   \n",
       "Griffin High School              $625.00           83.351499   \n",
       "Hernandez High School            $652.00           77.289752   \n",
       "Holden High School               $581.00           83.803279   \n",
       "Huang High School                $655.00           76.629414   \n",
       "Johnson High School              $650.00           77.072464   \n",
       "Pena High School                 $609.00           83.839917   \n",
       "Rodriguez High School            $637.00           76.842711   \n",
       "Shelton High School              $600.00           83.359455   \n",
       "Thomas High School               $638.00           83.350937   \n",
       "Wilson High School               $578.00           83.274201   \n",
       "Wright High School               $583.00           83.682222   \n",
       "\n",
       "                       Average Reading Score  % Passing Math  \\\n",
       "Bailey High School                 81.033963       66.680064   \n",
       "Cabrera High School                83.975780       94.133477   \n",
       "Figueroa High School               81.158020       65.988471   \n",
       "Ford High School                   80.746258       68.309602   \n",
       "Griffin High School                83.816757       93.392371   \n",
       "Hernandez High School              80.934412       66.752967   \n",
       "Holden High School                 83.814988       92.505855   \n",
       "Huang High School                  81.182722       65.683922   \n",
       "Johnson High School                80.966394       66.057551   \n",
       "Pena High School                   84.044699       94.594595   \n",
       "Rodriguez High School              80.744686       66.366592   \n",
       "Shelton High School                83.725724       93.867121   \n",
       "Thomas High School                 83.896082       66.911315   \n",
       "Wilson High School                 83.989488       93.867718   \n",
       "Wright High School                 83.955000       93.333333   \n",
       "\n",
       "                       % Passing Reading  % Overall Passing  \n",
       "Bailey High School             81.933280          54.642283  \n",
       "Cabrera High School            97.039828          91.334769  \n",
       "Figueroa High School           80.739234          53.204476  \n",
       "Ford High School               79.299014          54.289887  \n",
       "Griffin High School            97.138965          90.599455  \n",
       "Hernandez High School          80.862999          53.527508  \n",
       "Holden High School             96.252927          89.227166  \n",
       "Huang High School              81.316421          53.513884  \n",
       "Johnson High School            81.222432          53.539172  \n",
       "Pena High School               95.945946          90.540541  \n",
       "Rodriguez High School          80.220055          52.988247  \n",
       "Shelton High School            95.854628          89.892107  \n",
       "Thomas High School             69.663609          65.076453  \n",
       "Wilson High School             96.539641          90.582567  \n",
       "Wright High School             96.611111          90.333333  "
      ]
     },
     "execution_count": 24,
     "metadata": {},
     "output_type": "execute_result"
    }
   ],
   "source": [
    "# Format the Total School Budget and the Per Student Budget\n",
    "per_school_summary_df[\"Total School Budget\"] = per_school_summary_df[\"Total School Budget\"].map(\"${:,.2f}\".format)\n",
    "per_school_summary_df[\"Per Student Budget\"] = per_school_summary_df[\"Per Student Budget\"].map(\"${:,.2f}\".format)\n",
    "\n",
    "# Display the data frame\n",
    "per_school_summary_df"
   ]
  },
  {
   "cell_type": "code",
   "execution_count": 25,
   "id": "dc84b2d0",
   "metadata": {},
   "outputs": [
    {
     "data": {
      "text/plain": [
       "student_name    1174\n",
       "dtype: int64"
      ]
     },
     "execution_count": 25,
     "metadata": {},
     "output_type": "execute_result"
    }
   ],
   "source": [
    "# Step 5.  Get the number of 10th-12th graders from Thomas High School (THS).\n",
    "\n",
    "ths_10_11_12_stu_count = school_data_complete_df.loc[\n",
    "    (school_data_complete_df[\"school_name\"] == \n",
    "     \"Thomas High School\") & (school_data_complete_df[\"grade\"] != \"9th\"), [\"student_name\"]].count()\n",
    "\n",
    "ths_10_11_12_stu_count"
   ]
  },
  {
   "cell_type": "code",
   "execution_count": 26,
   "id": "a9e1b46e",
   "metadata": {},
   "outputs": [
    {
     "data": {
      "text/plain": [
       "1094"
      ]
     },
     "execution_count": 26,
     "metadata": {},
     "output_type": "execute_result"
    }
   ],
   "source": [
    "# Step 6. Get all the students passing math from THS\n",
    "\n",
    "all_ths_pass_math_df = school_data_complete_df.loc[(school_data_complete_df[\"school_name\"] == \n",
    "     \"Thomas High School\") & (school_data_complete_df[\"grade\"] != \"9th\") & (school_data_complete_df[\"math_score\"] >= 70), \"student_name\"].count()\n",
    "\n",
    "all_ths_pass_math_df"
   ]
  },
  {
   "cell_type": "code",
   "execution_count": 27,
   "id": "f852a258",
   "metadata": {},
   "outputs": [
    {
     "data": {
      "text/plain": [
       "1139"
      ]
     },
     "execution_count": 27,
     "metadata": {},
     "output_type": "execute_result"
    }
   ],
   "source": [
    "# Step 7. Get all the students passing reading from THS\n",
    "all_ths_pass_reading_df = school_data_complete_df.loc[(school_data_complete_df[\"school_name\"] == \n",
    "     \"Thomas High School\") &(school_data_complete_df[\"grade\"] != \"9th\") & (school_data_complete_df[\"reading_score\"] >= 70), \"student_name\"].count()\n",
    "\n",
    "all_ths_pass_reading_df"
   ]
  },
  {
   "cell_type": "code",
   "execution_count": 28,
   "id": "336d54b7",
   "metadata": {},
   "outputs": [
    {
     "data": {
      "text/plain": [
       "2233"
      ]
     },
     "execution_count": 28,
     "metadata": {},
     "output_type": "execute_result"
    }
   ],
   "source": [
    "# Step 8. Get all the students passing math and reading from THS\n",
    "all_ths_pass_math_reading_df = all_ths_pass_math_df + all_ths_pass_reading_df\n",
    "\n",
    "all_ths_pass_math_reading_df"
   ]
  },
  {
   "cell_type": "code",
   "execution_count": 29,
   "id": "fa96802d",
   "metadata": {},
   "outputs": [
    {
     "data": {
      "text/plain": [
       "93.18568994889267"
      ]
     },
     "execution_count": 29,
     "metadata": {},
     "output_type": "execute_result"
    }
   ],
   "source": [
    "# Step 9. Calculate the percentage of 10th-12th grade students passing math from Thomas High School. \n",
    "all_ths_pass_math_percentage = all_ths_pass_math_df / float(ths_10_11_12_stu_count) * 100\n",
    "\n",
    "all_ths_pass_math_percentage\n"
   ]
  },
  {
   "cell_type": "code",
   "execution_count": 30,
   "id": "41865c8d",
   "metadata": {},
   "outputs": [
    {
     "data": {
      "text/plain": [
       "97.01873935264055"
      ]
     },
     "execution_count": 30,
     "metadata": {},
     "output_type": "execute_result"
    }
   ],
   "source": [
    "# Step 10. Calculate the percentage of 10th-12th grade students passing reading from Thomas High School.\n",
    "all_ths_pass_reading_percentage = all_ths_pass_reading_df / float(ths_10_11_12_stu_count) * 100\n",
    "\n",
    "all_ths_pass_reading_percentage"
   ]
  },
  {
   "cell_type": "code",
   "execution_count": 31,
   "id": "16b9f441",
   "metadata": {},
   "outputs": [
    {
     "data": {
      "text/plain": [
       "95.10221465076661"
      ]
     },
     "execution_count": 31,
     "metadata": {},
     "output_type": "execute_result"
    }
   ],
   "source": [
    "# Step 11. Calculate the overall passing percentage of 10th-12th grade from Thomas High School. \n",
    "\n",
    "ths_overall_pass_percentage = (all_ths_pass_math_percentage + all_ths_pass_reading_percentage) / 2\n",
    "\n",
    "ths_overall_pass_percentage"
   ]
  },
  {
   "cell_type": "code",
   "execution_count": 32,
   "id": "335bbf7c",
   "metadata": {},
   "outputs": [
    {
     "data": {
      "text/plain": [
       "93.18568994889267"
      ]
     },
     "execution_count": 32,
     "metadata": {},
     "output_type": "execute_result"
    }
   ],
   "source": [
    "# Step 12. Replace the passing math percent for Thomas High School in the per_school_summary_df.\n",
    "per_school_summary_df.loc[\"Thomas High School\", \"% Passing Math\"] = all_ths_pass_math_percentage\n",
    "all_ths_pass_math_percentage"
   ]
  },
  {
   "cell_type": "code",
   "execution_count": 33,
   "id": "3fdd7283",
   "metadata": {},
   "outputs": [
    {
     "data": {
      "text/plain": [
       "97.01873935264055"
      ]
     },
     "execution_count": 33,
     "metadata": {},
     "output_type": "execute_result"
    }
   ],
   "source": [
    "# Step 13. Replace the passing reading percentage for Thomas High School in the per_school_summary_df.\n",
    "per_school_summary_df.loc[\"Thomas High School\", \"% Passing Reading\"] = all_ths_pass_reading_percentage\n",
    "all_ths_pass_reading_percentage"
   ]
  },
  {
   "cell_type": "code",
   "execution_count": 34,
   "id": "cbc8acc5",
   "metadata": {},
   "outputs": [
    {
     "data": {
      "text/plain": [
       "95.10221465076661"
      ]
     },
     "execution_count": 34,
     "metadata": {},
     "output_type": "execute_result"
    }
   ],
   "source": [
    "# Step 14. Replace the overall passing percentage for Thomas High School in the per_school_summary_df.\n",
    "per_school_summary_df.loc[\"Thomas High School\", \"% Overall Passing\"] = ths_overall_pass_percentage\n",
    "ths_overall_pass_percentage"
   ]
  },
  {
   "cell_type": "code",
   "execution_count": 35,
   "id": "b84c855e",
   "metadata": {},
   "outputs": [
    {
     "data": {
      "text/html": [
       "<div>\n",
       "<style scoped>\n",
       "    .dataframe tbody tr th:only-of-type {\n",
       "        vertical-align: middle;\n",
       "    }\n",
       "\n",
       "    .dataframe tbody tr th {\n",
       "        vertical-align: top;\n",
       "    }\n",
       "\n",
       "    .dataframe thead th {\n",
       "        text-align: right;\n",
       "    }\n",
       "</style>\n",
       "<table border=\"1\" class=\"dataframe\">\n",
       "  <thead>\n",
       "    <tr style=\"text-align: right;\">\n",
       "      <th></th>\n",
       "      <th>School Type</th>\n",
       "      <th>Total Students</th>\n",
       "      <th>Total School Budget</th>\n",
       "      <th>Per Student Budget</th>\n",
       "      <th>Average Math Score</th>\n",
       "      <th>Average Reading Score</th>\n",
       "      <th>% Passing Math</th>\n",
       "      <th>% Passing Reading</th>\n",
       "      <th>% Overall Passing</th>\n",
       "    </tr>\n",
       "  </thead>\n",
       "  <tbody>\n",
       "    <tr>\n",
       "      <th>Bailey High School</th>\n",
       "      <td>District</td>\n",
       "      <td>4976</td>\n",
       "      <td>$3,124,928.00</td>\n",
       "      <td>$628.00</td>\n",
       "      <td>77.048432</td>\n",
       "      <td>81.033963</td>\n",
       "      <td>66.680064</td>\n",
       "      <td>81.933280</td>\n",
       "      <td>54.642283</td>\n",
       "    </tr>\n",
       "    <tr>\n",
       "      <th>Cabrera High School</th>\n",
       "      <td>Charter</td>\n",
       "      <td>1858</td>\n",
       "      <td>$1,081,356.00</td>\n",
       "      <td>$582.00</td>\n",
       "      <td>83.061895</td>\n",
       "      <td>83.975780</td>\n",
       "      <td>94.133477</td>\n",
       "      <td>97.039828</td>\n",
       "      <td>91.334769</td>\n",
       "    </tr>\n",
       "    <tr>\n",
       "      <th>Figueroa High School</th>\n",
       "      <td>District</td>\n",
       "      <td>2949</td>\n",
       "      <td>$1,884,411.00</td>\n",
       "      <td>$639.00</td>\n",
       "      <td>76.711767</td>\n",
       "      <td>81.158020</td>\n",
       "      <td>65.988471</td>\n",
       "      <td>80.739234</td>\n",
       "      <td>53.204476</td>\n",
       "    </tr>\n",
       "    <tr>\n",
       "      <th>Ford High School</th>\n",
       "      <td>District</td>\n",
       "      <td>2739</td>\n",
       "      <td>$1,763,916.00</td>\n",
       "      <td>$644.00</td>\n",
       "      <td>77.102592</td>\n",
       "      <td>80.746258</td>\n",
       "      <td>68.309602</td>\n",
       "      <td>79.299014</td>\n",
       "      <td>54.289887</td>\n",
       "    </tr>\n",
       "    <tr>\n",
       "      <th>Griffin High School</th>\n",
       "      <td>Charter</td>\n",
       "      <td>1468</td>\n",
       "      <td>$917,500.00</td>\n",
       "      <td>$625.00</td>\n",
       "      <td>83.351499</td>\n",
       "      <td>83.816757</td>\n",
       "      <td>93.392371</td>\n",
       "      <td>97.138965</td>\n",
       "      <td>90.599455</td>\n",
       "    </tr>\n",
       "    <tr>\n",
       "      <th>Hernandez High School</th>\n",
       "      <td>District</td>\n",
       "      <td>4635</td>\n",
       "      <td>$3,022,020.00</td>\n",
       "      <td>$652.00</td>\n",
       "      <td>77.289752</td>\n",
       "      <td>80.934412</td>\n",
       "      <td>66.752967</td>\n",
       "      <td>80.862999</td>\n",
       "      <td>53.527508</td>\n",
       "    </tr>\n",
       "    <tr>\n",
       "      <th>Holden High School</th>\n",
       "      <td>Charter</td>\n",
       "      <td>427</td>\n",
       "      <td>$248,087.00</td>\n",
       "      <td>$581.00</td>\n",
       "      <td>83.803279</td>\n",
       "      <td>83.814988</td>\n",
       "      <td>92.505855</td>\n",
       "      <td>96.252927</td>\n",
       "      <td>89.227166</td>\n",
       "    </tr>\n",
       "    <tr>\n",
       "      <th>Huang High School</th>\n",
       "      <td>District</td>\n",
       "      <td>2917</td>\n",
       "      <td>$1,910,635.00</td>\n",
       "      <td>$655.00</td>\n",
       "      <td>76.629414</td>\n",
       "      <td>81.182722</td>\n",
       "      <td>65.683922</td>\n",
       "      <td>81.316421</td>\n",
       "      <td>53.513884</td>\n",
       "    </tr>\n",
       "    <tr>\n",
       "      <th>Johnson High School</th>\n",
       "      <td>District</td>\n",
       "      <td>4761</td>\n",
       "      <td>$3,094,650.00</td>\n",
       "      <td>$650.00</td>\n",
       "      <td>77.072464</td>\n",
       "      <td>80.966394</td>\n",
       "      <td>66.057551</td>\n",
       "      <td>81.222432</td>\n",
       "      <td>53.539172</td>\n",
       "    </tr>\n",
       "    <tr>\n",
       "      <th>Pena High School</th>\n",
       "      <td>Charter</td>\n",
       "      <td>962</td>\n",
       "      <td>$585,858.00</td>\n",
       "      <td>$609.00</td>\n",
       "      <td>83.839917</td>\n",
       "      <td>84.044699</td>\n",
       "      <td>94.594595</td>\n",
       "      <td>95.945946</td>\n",
       "      <td>90.540541</td>\n",
       "    </tr>\n",
       "    <tr>\n",
       "      <th>Rodriguez High School</th>\n",
       "      <td>District</td>\n",
       "      <td>3999</td>\n",
       "      <td>$2,547,363.00</td>\n",
       "      <td>$637.00</td>\n",
       "      <td>76.842711</td>\n",
       "      <td>80.744686</td>\n",
       "      <td>66.366592</td>\n",
       "      <td>80.220055</td>\n",
       "      <td>52.988247</td>\n",
       "    </tr>\n",
       "    <tr>\n",
       "      <th>Shelton High School</th>\n",
       "      <td>Charter</td>\n",
       "      <td>1761</td>\n",
       "      <td>$1,056,600.00</td>\n",
       "      <td>$600.00</td>\n",
       "      <td>83.359455</td>\n",
       "      <td>83.725724</td>\n",
       "      <td>93.867121</td>\n",
       "      <td>95.854628</td>\n",
       "      <td>89.892107</td>\n",
       "    </tr>\n",
       "    <tr>\n",
       "      <th>Thomas High School</th>\n",
       "      <td>Charter</td>\n",
       "      <td>1635</td>\n",
       "      <td>$1,043,130.00</td>\n",
       "      <td>$638.00</td>\n",
       "      <td>83.350937</td>\n",
       "      <td>83.896082</td>\n",
       "      <td>93.185690</td>\n",
       "      <td>97.018739</td>\n",
       "      <td>95.102215</td>\n",
       "    </tr>\n",
       "    <tr>\n",
       "      <th>Wilson High School</th>\n",
       "      <td>Charter</td>\n",
       "      <td>2283</td>\n",
       "      <td>$1,319,574.00</td>\n",
       "      <td>$578.00</td>\n",
       "      <td>83.274201</td>\n",
       "      <td>83.989488</td>\n",
       "      <td>93.867718</td>\n",
       "      <td>96.539641</td>\n",
       "      <td>90.582567</td>\n",
       "    </tr>\n",
       "    <tr>\n",
       "      <th>Wright High School</th>\n",
       "      <td>Charter</td>\n",
       "      <td>1800</td>\n",
       "      <td>$1,049,400.00</td>\n",
       "      <td>$583.00</td>\n",
       "      <td>83.682222</td>\n",
       "      <td>83.955000</td>\n",
       "      <td>93.333333</td>\n",
       "      <td>96.611111</td>\n",
       "      <td>90.333333</td>\n",
       "    </tr>\n",
       "  </tbody>\n",
       "</table>\n",
       "</div>"
      ],
      "text/plain": [
       "                      School Type  Total Students Total School Budget  \\\n",
       "Bailey High School       District            4976       $3,124,928.00   \n",
       "Cabrera High School       Charter            1858       $1,081,356.00   \n",
       "Figueroa High School     District            2949       $1,884,411.00   \n",
       "Ford High School         District            2739       $1,763,916.00   \n",
       "Griffin High School       Charter            1468         $917,500.00   \n",
       "Hernandez High School    District            4635       $3,022,020.00   \n",
       "Holden High School        Charter             427         $248,087.00   \n",
       "Huang High School        District            2917       $1,910,635.00   \n",
       "Johnson High School      District            4761       $3,094,650.00   \n",
       "Pena High School          Charter             962         $585,858.00   \n",
       "Rodriguez High School    District            3999       $2,547,363.00   \n",
       "Shelton High School       Charter            1761       $1,056,600.00   \n",
       "Thomas High School        Charter            1635       $1,043,130.00   \n",
       "Wilson High School        Charter            2283       $1,319,574.00   \n",
       "Wright High School        Charter            1800       $1,049,400.00   \n",
       "\n",
       "                      Per Student Budget  Average Math Score  \\\n",
       "Bailey High School               $628.00           77.048432   \n",
       "Cabrera High School              $582.00           83.061895   \n",
       "Figueroa High School             $639.00           76.711767   \n",
       "Ford High School                 $644.00           77.102592   \n",
       "Griffin High School              $625.00           83.351499   \n",
       "Hernandez High School            $652.00           77.289752   \n",
       "Holden High School               $581.00           83.803279   \n",
       "Huang High School                $655.00           76.629414   \n",
       "Johnson High School              $650.00           77.072464   \n",
       "Pena High School                 $609.00           83.839917   \n",
       "Rodriguez High School            $637.00           76.842711   \n",
       "Shelton High School              $600.00           83.359455   \n",
       "Thomas High School               $638.00           83.350937   \n",
       "Wilson High School               $578.00           83.274201   \n",
       "Wright High School               $583.00           83.682222   \n",
       "\n",
       "                       Average Reading Score  % Passing Math  \\\n",
       "Bailey High School                 81.033963       66.680064   \n",
       "Cabrera High School                83.975780       94.133477   \n",
       "Figueroa High School               81.158020       65.988471   \n",
       "Ford High School                   80.746258       68.309602   \n",
       "Griffin High School                83.816757       93.392371   \n",
       "Hernandez High School              80.934412       66.752967   \n",
       "Holden High School                 83.814988       92.505855   \n",
       "Huang High School                  81.182722       65.683922   \n",
       "Johnson High School                80.966394       66.057551   \n",
       "Pena High School                   84.044699       94.594595   \n",
       "Rodriguez High School              80.744686       66.366592   \n",
       "Shelton High School                83.725724       93.867121   \n",
       "Thomas High School                 83.896082       93.185690   \n",
       "Wilson High School                 83.989488       93.867718   \n",
       "Wright High School                 83.955000       93.333333   \n",
       "\n",
       "                       % Passing Reading  % Overall Passing  \n",
       "Bailey High School             81.933280          54.642283  \n",
       "Cabrera High School            97.039828          91.334769  \n",
       "Figueroa High School           80.739234          53.204476  \n",
       "Ford High School               79.299014          54.289887  \n",
       "Griffin High School            97.138965          90.599455  \n",
       "Hernandez High School          80.862999          53.527508  \n",
       "Holden High School             96.252927          89.227166  \n",
       "Huang High School              81.316421          53.513884  \n",
       "Johnson High School            81.222432          53.539172  \n",
       "Pena High School               95.945946          90.540541  \n",
       "Rodriguez High School          80.220055          52.988247  \n",
       "Shelton High School            95.854628          89.892107  \n",
       "Thomas High School             97.018739          95.102215  \n",
       "Wilson High School             96.539641          90.582567  \n",
       "Wright High School             96.611111          90.333333  "
      ]
     },
     "execution_count": 35,
     "metadata": {},
     "output_type": "execute_result"
    }
   ],
   "source": [
    "# per_school_summary_df\n",
    "\n",
    "per_school_summary_df"
   ]
  },
  {
   "cell_type": "markdown",
   "id": "9aca081a",
   "metadata": {},
   "source": [
    "## High and Low Performing Schools "
   ]
  },
  {
   "cell_type": "code",
   "execution_count": 36,
   "id": "1ac2775a",
   "metadata": {
    "scrolled": true
   },
   "outputs": [
    {
     "data": {
      "text/html": [
       "<div>\n",
       "<style scoped>\n",
       "    .dataframe tbody tr th:only-of-type {\n",
       "        vertical-align: middle;\n",
       "    }\n",
       "\n",
       "    .dataframe tbody tr th {\n",
       "        vertical-align: top;\n",
       "    }\n",
       "\n",
       "    .dataframe thead th {\n",
       "        text-align: right;\n",
       "    }\n",
       "</style>\n",
       "<table border=\"1\" class=\"dataframe\">\n",
       "  <thead>\n",
       "    <tr style=\"text-align: right;\">\n",
       "      <th></th>\n",
       "      <th>School Type</th>\n",
       "      <th>Total Students</th>\n",
       "      <th>Total School Budget</th>\n",
       "      <th>Per Student Budget</th>\n",
       "      <th>Average Math Score</th>\n",
       "      <th>Average Reading Score</th>\n",
       "      <th>% Passing Math</th>\n",
       "      <th>% Passing Reading</th>\n",
       "      <th>% Overall Passing</th>\n",
       "    </tr>\n",
       "  </thead>\n",
       "  <tbody>\n",
       "    <tr>\n",
       "      <th>Thomas High School</th>\n",
       "      <td>Charter</td>\n",
       "      <td>1635</td>\n",
       "      <td>$1,043,130.00</td>\n",
       "      <td>$638.00</td>\n",
       "      <td>83.350937</td>\n",
       "      <td>83.896082</td>\n",
       "      <td>93.185690</td>\n",
       "      <td>97.018739</td>\n",
       "      <td>95.102215</td>\n",
       "    </tr>\n",
       "    <tr>\n",
       "      <th>Cabrera High School</th>\n",
       "      <td>Charter</td>\n",
       "      <td>1858</td>\n",
       "      <td>$1,081,356.00</td>\n",
       "      <td>$582.00</td>\n",
       "      <td>83.061895</td>\n",
       "      <td>83.975780</td>\n",
       "      <td>94.133477</td>\n",
       "      <td>97.039828</td>\n",
       "      <td>91.334769</td>\n",
       "    </tr>\n",
       "    <tr>\n",
       "      <th>Griffin High School</th>\n",
       "      <td>Charter</td>\n",
       "      <td>1468</td>\n",
       "      <td>$917,500.00</td>\n",
       "      <td>$625.00</td>\n",
       "      <td>83.351499</td>\n",
       "      <td>83.816757</td>\n",
       "      <td>93.392371</td>\n",
       "      <td>97.138965</td>\n",
       "      <td>90.599455</td>\n",
       "    </tr>\n",
       "    <tr>\n",
       "      <th>Wilson High School</th>\n",
       "      <td>Charter</td>\n",
       "      <td>2283</td>\n",
       "      <td>$1,319,574.00</td>\n",
       "      <td>$578.00</td>\n",
       "      <td>83.274201</td>\n",
       "      <td>83.989488</td>\n",
       "      <td>93.867718</td>\n",
       "      <td>96.539641</td>\n",
       "      <td>90.582567</td>\n",
       "    </tr>\n",
       "    <tr>\n",
       "      <th>Pena High School</th>\n",
       "      <td>Charter</td>\n",
       "      <td>962</td>\n",
       "      <td>$585,858.00</td>\n",
       "      <td>$609.00</td>\n",
       "      <td>83.839917</td>\n",
       "      <td>84.044699</td>\n",
       "      <td>94.594595</td>\n",
       "      <td>95.945946</td>\n",
       "      <td>90.540541</td>\n",
       "    </tr>\n",
       "  </tbody>\n",
       "</table>\n",
       "</div>"
      ],
      "text/plain": [
       "                    School Type  Total Students Total School Budget  \\\n",
       "Thomas High School      Charter            1635       $1,043,130.00   \n",
       "Cabrera High School     Charter            1858       $1,081,356.00   \n",
       "Griffin High School     Charter            1468         $917,500.00   \n",
       "Wilson High School      Charter            2283       $1,319,574.00   \n",
       "Pena High School        Charter             962         $585,858.00   \n",
       "\n",
       "                    Per Student Budget  Average Math Score  \\\n",
       "Thomas High School             $638.00           83.350937   \n",
       "Cabrera High School            $582.00           83.061895   \n",
       "Griffin High School            $625.00           83.351499   \n",
       "Wilson High School             $578.00           83.274201   \n",
       "Pena High School               $609.00           83.839917   \n",
       "\n",
       "                     Average Reading Score  % Passing Math  % Passing Reading  \\\n",
       "Thomas High School               83.896082       93.185690          97.018739   \n",
       "Cabrera High School              83.975780       94.133477          97.039828   \n",
       "Griffin High School              83.816757       93.392371          97.138965   \n",
       "Wilson High School               83.989488       93.867718          96.539641   \n",
       "Pena High School                 84.044699       94.594595          95.945946   \n",
       "\n",
       "                     % Overall Passing  \n",
       "Thomas High School           95.102215  \n",
       "Cabrera High School          91.334769  \n",
       "Griffin High School          90.599455  \n",
       "Wilson High School           90.582567  \n",
       "Pena High School             90.540541  "
      ]
     },
     "execution_count": 36,
     "metadata": {},
     "output_type": "execute_result"
    }
   ],
   "source": [
    "# Sort and show top five schools.\n",
    "top_five_schools = per_school_summary_df.sort_values([\"% Overall Passing\"], ascending=False)\n",
    "\n",
    "top_five_schools.head()"
   ]
  },
  {
   "cell_type": "code",
   "execution_count": 37,
   "id": "f79d49c4",
   "metadata": {},
   "outputs": [
    {
     "data": {
      "text/html": [
       "<div>\n",
       "<style scoped>\n",
       "    .dataframe tbody tr th:only-of-type {\n",
       "        vertical-align: middle;\n",
       "    }\n",
       "\n",
       "    .dataframe tbody tr th {\n",
       "        vertical-align: top;\n",
       "    }\n",
       "\n",
       "    .dataframe thead th {\n",
       "        text-align: right;\n",
       "    }\n",
       "</style>\n",
       "<table border=\"1\" class=\"dataframe\">\n",
       "  <thead>\n",
       "    <tr style=\"text-align: right;\">\n",
       "      <th></th>\n",
       "      <th>School Type</th>\n",
       "      <th>Total Students</th>\n",
       "      <th>Total School Budget</th>\n",
       "      <th>Per Student Budget</th>\n",
       "      <th>Average Math Score</th>\n",
       "      <th>Average Reading Score</th>\n",
       "      <th>% Passing Math</th>\n",
       "      <th>% Passing Reading</th>\n",
       "      <th>% Overall Passing</th>\n",
       "    </tr>\n",
       "  </thead>\n",
       "  <tbody>\n",
       "    <tr>\n",
       "      <th>Johnson High School</th>\n",
       "      <td>District</td>\n",
       "      <td>4761</td>\n",
       "      <td>$3,094,650.00</td>\n",
       "      <td>$650.00</td>\n",
       "      <td>77.072464</td>\n",
       "      <td>80.966394</td>\n",
       "      <td>66.057551</td>\n",
       "      <td>81.222432</td>\n",
       "      <td>53.539172</td>\n",
       "    </tr>\n",
       "    <tr>\n",
       "      <th>Hernandez High School</th>\n",
       "      <td>District</td>\n",
       "      <td>4635</td>\n",
       "      <td>$3,022,020.00</td>\n",
       "      <td>$652.00</td>\n",
       "      <td>77.289752</td>\n",
       "      <td>80.934412</td>\n",
       "      <td>66.752967</td>\n",
       "      <td>80.862999</td>\n",
       "      <td>53.527508</td>\n",
       "    </tr>\n",
       "    <tr>\n",
       "      <th>Huang High School</th>\n",
       "      <td>District</td>\n",
       "      <td>2917</td>\n",
       "      <td>$1,910,635.00</td>\n",
       "      <td>$655.00</td>\n",
       "      <td>76.629414</td>\n",
       "      <td>81.182722</td>\n",
       "      <td>65.683922</td>\n",
       "      <td>81.316421</td>\n",
       "      <td>53.513884</td>\n",
       "    </tr>\n",
       "    <tr>\n",
       "      <th>Figueroa High School</th>\n",
       "      <td>District</td>\n",
       "      <td>2949</td>\n",
       "      <td>$1,884,411.00</td>\n",
       "      <td>$639.00</td>\n",
       "      <td>76.711767</td>\n",
       "      <td>81.158020</td>\n",
       "      <td>65.988471</td>\n",
       "      <td>80.739234</td>\n",
       "      <td>53.204476</td>\n",
       "    </tr>\n",
       "    <tr>\n",
       "      <th>Rodriguez High School</th>\n",
       "      <td>District</td>\n",
       "      <td>3999</td>\n",
       "      <td>$2,547,363.00</td>\n",
       "      <td>$637.00</td>\n",
       "      <td>76.842711</td>\n",
       "      <td>80.744686</td>\n",
       "      <td>66.366592</td>\n",
       "      <td>80.220055</td>\n",
       "      <td>52.988247</td>\n",
       "    </tr>\n",
       "  </tbody>\n",
       "</table>\n",
       "</div>"
      ],
      "text/plain": [
       "                      School Type  Total Students Total School Budget  \\\n",
       "Johnson High School      District            4761       $3,094,650.00   \n",
       "Hernandez High School    District            4635       $3,022,020.00   \n",
       "Huang High School        District            2917       $1,910,635.00   \n",
       "Figueroa High School     District            2949       $1,884,411.00   \n",
       "Rodriguez High School    District            3999       $2,547,363.00   \n",
       "\n",
       "                      Per Student Budget  Average Math Score  \\\n",
       "Johnson High School              $650.00           77.072464   \n",
       "Hernandez High School            $652.00           77.289752   \n",
       "Huang High School                $655.00           76.629414   \n",
       "Figueroa High School             $639.00           76.711767   \n",
       "Rodriguez High School            $637.00           76.842711   \n",
       "\n",
       "                       Average Reading Score  % Passing Math  \\\n",
       "Johnson High School                80.966394       66.057551   \n",
       "Hernandez High School              80.934412       66.752967   \n",
       "Huang High School                  81.182722       65.683922   \n",
       "Figueroa High School               81.158020       65.988471   \n",
       "Rodriguez High School              80.744686       66.366592   \n",
       "\n",
       "                       % Passing Reading  % Overall Passing  \n",
       "Johnson High School            81.222432          53.539172  \n",
       "Hernandez High School          80.862999          53.527508  \n",
       "Huang High School              81.316421          53.513884  \n",
       "Figueroa High School           80.739234          53.204476  \n",
       "Rodriguez High School          80.220055          52.988247  "
      ]
     },
     "execution_count": 37,
     "metadata": {},
     "output_type": "execute_result"
    }
   ],
   "source": [
    "# Sort and show low five schools.\n",
    "low_five_schools = per_school_summary_df.sort_values([\"% Overall Passing\"], ascending=False)\n",
    "\n",
    "low_five_schools.tail()"
   ]
  },
  {
   "cell_type": "markdown",
   "id": "a1e477a0",
   "metadata": {
    "collapsed": true
   },
   "source": [
    "## Math and Reading Scores by Grade"
   ]
  },
  {
   "cell_type": "code",
   "execution_count": 38,
   "id": "17358aa9",
   "metadata": {},
   "outputs": [],
   "source": [
    "# Create a Series of scores by grade levels using conditionals.\n",
    "ninth_graders = school_data_complete_df[(school_data_complete_df[\"grade\"] == \"9th\")]\n",
    "\n",
    "tenth_graders = school_data_complete_df[(school_data_complete_df[\"grade\"] == \"10th\")]\n",
    "\n",
    "eleventh_graders = school_data_complete_df[(school_data_complete_df[\"grade\"] == \"11th\")]\n",
    "\n",
    "twelfth_graders = school_data_complete_df[(school_data_complete_df[\"grade\"] == \"12th\")]\n",
    "\n",
    "# Group each school Series by the school name for the average math score.\n",
    "ninth_grade_math_scores = ninth_graders.groupby([\"school_name\"]).mean()[\"math_score\"]\n",
    "\n",
    "tenth_grade_math_scores = tenth_graders.groupby([\"school_name\"]).mean()[\"math_score\"]\n",
    "\n",
    "eleventh_grade_math_scores = eleventh_graders.groupby([\"school_name\"]).mean()[\"math_score\"]\n",
    "\n",
    "twelfth_grade_math_scores = twelfth_graders.groupby([\"school_name\"]).mean()[\"math_score\"]\n",
    "\n",
    "# Group each school Series by the school name for the average reading score.\n",
    "ninth_grade_reading_scores = ninth_graders.groupby([\"school_name\"]).mean()[\"reading_score\"]\n",
    "\n",
    "tenth_grade_reading_scores = tenth_graders.groupby([\"school_name\"]).mean()[\"reading_score\"]\n",
    "\n",
    "eleventh_grade_reading_scores = eleventh_graders.groupby([\"school_name\"]).mean()[\"reading_score\"]\n",
    "\n",
    "twelfth_grade_reading_scores = twelfth_graders.groupby([\"school_name\"]).mean()[\"reading_score\"]"
   ]
  },
  {
   "cell_type": "code",
   "execution_count": 39,
   "id": "82037858",
   "metadata": {},
   "outputs": [
    {
     "data": {
      "text/html": [
       "<div>\n",
       "<style scoped>\n",
       "    .dataframe tbody tr th:only-of-type {\n",
       "        vertical-align: middle;\n",
       "    }\n",
       "\n",
       "    .dataframe tbody tr th {\n",
       "        vertical-align: top;\n",
       "    }\n",
       "\n",
       "    .dataframe thead th {\n",
       "        text-align: right;\n",
       "    }\n",
       "</style>\n",
       "<table border=\"1\" class=\"dataframe\">\n",
       "  <thead>\n",
       "    <tr style=\"text-align: right;\">\n",
       "      <th></th>\n",
       "      <th>9th</th>\n",
       "      <th>10th</th>\n",
       "      <th>11th</th>\n",
       "      <th>12th</th>\n",
       "    </tr>\n",
       "    <tr>\n",
       "      <th>school_name</th>\n",
       "      <th></th>\n",
       "      <th></th>\n",
       "      <th></th>\n",
       "      <th></th>\n",
       "    </tr>\n",
       "  </thead>\n",
       "  <tbody>\n",
       "    <tr>\n",
       "      <th>Bailey High School</th>\n",
       "      <td>81.303155</td>\n",
       "      <td>80.907183</td>\n",
       "      <td>80.945643</td>\n",
       "      <td>80.912451</td>\n",
       "    </tr>\n",
       "    <tr>\n",
       "      <th>Cabrera High School</th>\n",
       "      <td>83.676136</td>\n",
       "      <td>84.253219</td>\n",
       "      <td>83.788382</td>\n",
       "      <td>84.287958</td>\n",
       "    </tr>\n",
       "    <tr>\n",
       "      <th>Figueroa High School</th>\n",
       "      <td>81.198598</td>\n",
       "      <td>81.408912</td>\n",
       "      <td>80.640339</td>\n",
       "      <td>81.384863</td>\n",
       "    </tr>\n",
       "    <tr>\n",
       "      <th>Ford High School</th>\n",
       "      <td>80.632653</td>\n",
       "      <td>81.262712</td>\n",
       "      <td>80.403642</td>\n",
       "      <td>80.662338</td>\n",
       "    </tr>\n",
       "    <tr>\n",
       "      <th>Griffin High School</th>\n",
       "      <td>83.369193</td>\n",
       "      <td>83.706897</td>\n",
       "      <td>84.288089</td>\n",
       "      <td>84.013699</td>\n",
       "    </tr>\n",
       "  </tbody>\n",
       "</table>\n",
       "</div>"
      ],
      "text/plain": [
       "                            9th       10th       11th       12th\n",
       "school_name                                                     \n",
       "Bailey High School    81.303155  80.907183  80.945643  80.912451\n",
       "Cabrera High School   83.676136  84.253219  83.788382  84.287958\n",
       "Figueroa High School  81.198598  81.408912  80.640339  81.384863\n",
       "Ford High School      80.632653  81.262712  80.403642  80.662338\n",
       "Griffin High School   83.369193  83.706897  84.288089  84.013699"
      ]
     },
     "execution_count": 39,
     "metadata": {},
     "output_type": "execute_result"
    }
   ],
   "source": [
    "# Combine each Series for average math scores by school into single data frame.\n",
    "reading_scores_by_grade = pd.DataFrame({\n",
    "              \"9th\": ninth_grade_reading_scores,\n",
    "              \"10th\": tenth_grade_reading_scores,\n",
    "              \"11th\": eleventh_grade_reading_scores,\n",
    "              \"12th\": twelfth_grade_reading_scores})\n",
    "\n",
    "reading_scores_by_grade.head()"
   ]
  },
  {
   "cell_type": "code",
   "execution_count": 40,
   "id": "1cbf7d46",
   "metadata": {},
   "outputs": [
    {
     "ename": "NameError",
     "evalue": "name 'ninth_grade_avg_reading_scores' is not defined",
     "output_type": "error",
     "traceback": [
      "\u001b[0;31m---------------------------------------------------------------------------\u001b[0m",
      "\u001b[0;31mNameError\u001b[0m                                 Traceback (most recent call last)",
      "Input \u001b[0;32mIn [40]\u001b[0m, in \u001b[0;36m<cell line: 2>\u001b[0;34m()\u001b[0m\n\u001b[1;32m      1\u001b[0m \u001b[38;5;66;03m# Combine each Series for average reading scores by school into single data frame.\u001b[39;00m\n\u001b[1;32m      2\u001b[0m reading_scores_by_grade_df \u001b[38;5;241m=\u001b[39m pd\u001b[38;5;241m.\u001b[39mDataFrame({\n\u001b[0;32m----> 3\u001b[0m        \u001b[38;5;124m\"\u001b[39m\u001b[38;5;124m9th\u001b[39m\u001b[38;5;124m\"\u001b[39m: \u001b[43mninth_grade_avg_reading_scores\u001b[49m,\n\u001b[1;32m      4\u001b[0m        \u001b[38;5;124m\"\u001b[39m\u001b[38;5;124m10th\u001b[39m\u001b[38;5;124m\"\u001b[39m: tenth_grade_avg_reading_scores,\n\u001b[1;32m      5\u001b[0m        \u001b[38;5;124m\"\u001b[39m\u001b[38;5;124m11th\u001b[39m\u001b[38;5;124m\"\u001b[39m: eleventh_grade_avg_reading_scores,\n\u001b[1;32m      6\u001b[0m        \u001b[38;5;124m\"\u001b[39m\u001b[38;5;124m12th\u001b[39m\u001b[38;5;124m\"\u001b[39m: twelfth_grade_avg_reading_scores})\n",
      "\u001b[0;31mNameError\u001b[0m: name 'ninth_grade_avg_reading_scores' is not defined"
     ]
    }
   ],
   "source": [
    "# Combine each Series for average reading scores by school into single data frame.\n",
    "reading_scores_by_grade_df = pd.DataFrame({\n",
    "       \"9th\": ninth_grade_avg_reading_scores,\n",
    "       \"10th\": tenth_grade_avg_reading_scores,\n",
    "       \"11th\": eleventh_grade_avg_reading_scores,\n",
    "       \"12th\": twelfth_grade_avg_reading_scores})"
   ]
  },
  {
   "cell_type": "code",
   "execution_count": null,
   "id": "65274988",
   "metadata": {},
   "outputs": [],
   "source": [
    "# Format each grade column.\n",
    "reading_scores_by_grade[\"9th\"] = reading_scores_by_grade[\"9th\"].map(\"{:,.1f}\".format)\n",
    "\n",
    "reading_scores_by_grade[\"10th\"] = reading_scores_by_grade[\"10th\"].map(\"{:,.1f}\".format)\n",
    "\n",
    "reading_scores_by_grade[\"11th\"] = reading_scores_by_grade[\"11th\"].map(\"{:,.1f}\".format)\n",
    "\n",
    "reading_scores_by_grade[\"12th\"] = reading_scores_by_grade[\"12th\"].map(\"{:,.1f}\".format)"
   ]
  },
  {
   "cell_type": "code",
   "execution_count": null,
   "id": "59f13581",
   "metadata": {},
   "outputs": [],
   "source": [
    "## Remove the index.\n",
    "reading_scores_by_grade.index.name = None\n",
    "\n",
    "# Display the data frame\n",
    "reading_scores_by_grade.head()"
   ]
  },
  {
   "cell_type": "markdown",
   "id": "c494fb89",
   "metadata": {},
   "source": [
    "## Scores by School Spending"
   ]
  },
  {
   "cell_type": "code",
   "execution_count": null,
   "id": "50218b2c",
   "metadata": {},
   "outputs": [],
   "source": [
    "# Establish the spending bins and group names.\n",
    "spending_bins = [0, 585, 615, 645, 675]\n",
    "pd.cut(per_school_capita, spending_bins)\n",
    "\n",
    "# Establish the spending group names.\n",
    "spending_bins = [0, 585, 630, 645, 675]\n",
    "group_names = [\"<$584\", \"$585-629\", \"$630-644\", \"$645-675\"]\n",
    "group_names\n",
    "\n",
    "# Categorize spending based on the bins.\n",
    "per_school_summary_df[\"Spending Ranges (Per Student)\"] = pd.cut(per_school_capita, spending_bins, labels=group_names)\n",
    "\n",
    "per_school_summary_df"
   ]
  },
  {
   "cell_type": "code",
   "execution_count": null,
   "id": "0a39c08e",
   "metadata": {},
   "outputs": [],
   "source": [
    "# Calculate averages for the desired columns. \n",
    "spending_math_scores = per_school_summary_df.groupby([\"Spending Ranges (Per Student)\"]).mean()[\"Average Math Score\"]\n",
    "\n",
    "spending_reading_scores = per_school_summary_df.groupby([\"Spending Ranges (Per Student)\"]).mean()[\"Average Reading Score\"]\n",
    "\n",
    "spending_passing_math = per_school_summary_df.groupby([\"Spending Ranges (Per Student)\"]).mean()[\"% Passing Math\"]\n",
    "\n",
    "spending_passing_reading = per_school_summary_df.groupby([\"Spending Ranges (Per Student)\"]).mean()[\"% Passing Reading\"]\n",
    "\n",
    "overall_passing_spending = per_school_summary_df.groupby([\"Spending Ranges (Per Student)\"]).mean()[\"% Overall Passing\"]\n"
   ]
  },
  {
   "cell_type": "code",
   "execution_count": null,
   "id": "bc5b65b6",
   "metadata": {},
   "outputs": [],
   "source": [
    "# Create the DataFrame\n",
    "spending_summary_df = pd.DataFrame({\n",
    "          \"Average Math Score\" : spending_math_scores,\n",
    "          \"Average Reading Score\": spending_reading_scores,\n",
    "          \"% Passing Math\": spending_passing_math,\n",
    "          \"% Passing Reading\": spending_passing_reading,\n",
    "          \"% Overall Passing\": overall_passing_spending})\n",
    "\n",
    "spending_summary_df"
   ]
  },
  {
   "cell_type": "code",
   "execution_count": null,
   "id": "8effa0c4",
   "metadata": {},
   "outputs": [],
   "source": [
    "# Format the DataFrame \n",
    "spending_summary_df[\"Average Math Score\"] = spending_summary_df[\"Average Math Score\"].map(\"{:.1f}\".format)\n",
    "\n",
    "spending_summary_df[\"Average Reading Score\"] = spending_summary_df[\"Average Reading Score\"].map(\"{:.1f}\".format)\n",
    "\n",
    "spending_summary_df[\"% Passing Math\"] = spending_summary_df[\"% Passing Math\"].map(\"{:.0f}\".format)\n",
    "\n",
    "spending_summary_df[\"% Passing Reading\"] = spending_summary_df[\"% Passing Reading\"].map(\"{:.0f}\".format)\n",
    "\n",
    "spending_summary_df[\"% Overall Passing\"] = spending_summary_df[\"% Overall Passing\"].map(\"{:.0f}\".format)\n",
    "\n",
    "spending_summary_df"
   ]
  },
  {
   "cell_type": "markdown",
   "id": "3073188d",
   "metadata": {},
   "source": [
    "## Scores by School Size"
   ]
  },
  {
   "cell_type": "code",
   "execution_count": null,
   "id": "6070a330",
   "metadata": {},
   "outputs": [],
   "source": [
    "# Establish the bins.\n",
    "size_bins = [0, 999, 1999, 5000]\n",
    "group_names = [\"Small (<1000)\", \"Medium (1000-1999)\", \"Large (2000-5000)\"]\n",
    "# Categorize spending based on the bins.\n",
    "per_school_summary_df[\"School Size\"] = pd.cut(per_school_summary_df[\"Total Students\"], size_bins, labels=group_names)\n",
    "\n",
    "per_school_summary_df.head()"
   ]
  },
  {
   "cell_type": "code",
   "execution_count": null,
   "id": "759c8ff9",
   "metadata": {},
   "outputs": [],
   "source": [
    "# Calculate averages for the desired columns. \n",
    "size_math_scores = per_school_summary_df.groupby([\"School Size\"]).mean()[\"Average Math Score\"]\n",
    "\n",
    "size_reading_scores = per_school_summary_df.groupby([\"School Size\"]).mean()[\"Average Reading Score\"]\n",
    "\n",
    "size_passing_math = per_school_summary_df.groupby([\"School Size\"]).mean()[\"% Passing Math\"]\n",
    "\n",
    "size_passing_reading = per_school_summary_df.groupby([\"School Size\"]).mean()[\"% Passing Reading\"]\n",
    "\n",
    "size_overall_passing = per_school_summary_df.groupby([\"School Size\"]).mean()[\"% Overall Passing\"]"
   ]
  },
  {
   "cell_type": "code",
   "execution_count": null,
   "id": "4a2e0b9f",
   "metadata": {
    "scrolled": true
   },
   "outputs": [],
   "source": [
    "# Assemble into DataFrame. \n",
    "size_summary_df = pd.DataFrame({\n",
    "          \"Average Math Score\" : size_math_scores,\n",
    "          \"Average Reading Score\": size_reading_scores,\n",
    "          \"% Passing Math\": size_passing_math,\n",
    "          \"% Passing Reading\": size_passing_reading,\n",
    "          \"% Overall Passing\": size_overall_passing})\n",
    "\n",
    "size_summary_df"
   ]
  },
  {
   "cell_type": "code",
   "execution_count": null,
   "id": "84298dd3",
   "metadata": {},
   "outputs": [],
   "source": [
    "# Format the DataFrame  \n",
    "size_summary_df[\"Average Math Score\"] = size_summary_df[\"Average Math Score\"].map(\"{:.1f}\".format)\n",
    "\n",
    "size_summary_df[\"Average Reading Score\"] = size_summary_df[\"Average Reading Score\"].map(\"{:.1f}\".format)\n",
    "\n",
    "size_summary_df[\"% Passing Math\"] = size_summary_df[\"% Passing Math\"].map(\"{:.0f}\".format)\n",
    "\n",
    "size_summary_df[\"% Passing Reading\"] = size_summary_df[\"% Passing Reading\"].map(\"{:.0f}\".format)\n",
    "\n",
    "size_summary_df[\"% Overall Passing\"] = size_summary_df[\"% Overall Passing\"].map(\"{:.0f}\".format)\n",
    "\n",
    "size_summary_df"
   ]
  },
  {
   "cell_type": "markdown",
   "id": "8cbe56c5",
   "metadata": {},
   "source": [
    "## Scores by School Type"
   ]
  },
  {
   "cell_type": "code",
   "execution_count": null,
   "id": "4c3a5a9b",
   "metadata": {},
   "outputs": [],
   "source": [
    "# Calculate averages for the desired columns. \n",
    "type_math_scores = per_school_summary_df.groupby([\"School Type\"]).mean()[\"Average Math Score\"]\n",
    "\n",
    "type_reading_scores = per_school_summary_df.groupby([\"School Type\"]).mean()[\"Average Reading Score\"]\n",
    "\n",
    "type_passing_math = per_school_summary_df.groupby([\"School Type\"]).mean()[\"% Passing Math\"]\n",
    "\n",
    "type_passing_reading = per_school_summary_df.groupby([\"School Type\"]).mean()[\"% Passing Reading\"]\n",
    "\n",
    "type_overall_passing = per_school_summary_df.groupby([\"School Type\"]).mean()[\"% Overall Passing\"]"
   ]
  },
  {
   "cell_type": "code",
   "execution_count": null,
   "id": "7587c3e1",
   "metadata": {},
   "outputs": [],
   "source": [
    "# Assemble into DataFrame. \n",
    "type_summary_df = pd.DataFrame({\n",
    "          \"Average Math Score\" : type_math_scores,\n",
    "          \"Average Reading Score\": type_reading_scores,\n",
    "          \"% Passing Math\": type_passing_math,\n",
    "          \"% Passing Reading\": type_passing_reading,\n",
    "          \"% Overall Passing\": type_overall_passing})\n",
    "\n",
    "type_summary_df"
   ]
  },
  {
   "cell_type": "code",
   "execution_count": null,
   "id": "a6bbdf8d",
   "metadata": {},
   "outputs": [],
   "source": [
    "# # Format the DataFrame \n",
    "type_summary_df[\"Average Math Score\"] = type_summary_df[\"Average Math Score\"].map(\"{:.1f}\".format)\n",
    "\n",
    "type_summary_df[\"Average Reading Score\"] = type_summary_df[\"Average Reading Score\"].map(\"{:.1f}\".format)\n",
    "\n",
    "type_summary_df[\"% Passing Math\"] = type_summary_df[\"% Passing Math\"].map(\"{:.0f}\".format)\n",
    "\n",
    "type_summary_df[\"% Passing Reading\"] = type_summary_df[\"% Passing Reading\"].map(\"{:.0f}\".format)\n",
    "\n",
    "type_summary_df[\"% Overall Passing\"] = type_summary_df[\"% Overall Passing\"].map(\"{:.0f}\".format)\n",
    "\n",
    "type_summary_df"
   ]
  },
  {
   "cell_type": "markdown",
   "id": "44a56d3c",
   "metadata": {},
   "source": [
    "# PyCitySchools Module Code"
   ]
  },
  {
   "cell_type": "markdown",
   "id": "c042d228",
   "metadata": {},
   "source": [
    "#Add the Pandas dependency.\n",
    "import pandas as pd"
   ]
  },
  {
   "cell_type": "code",
   "execution_count": null,
   "id": "caaad006",
   "metadata": {},
   "outputs": [],
   "source": [
    "# Files to load\n",
    "school_data_to_load = \"Resources/schools_complete.csv\"\n",
    "student_data_to_load = \"Resources/clean_students_complete.csv\""
   ]
  },
  {
   "cell_type": "code",
   "execution_count": null,
   "id": "3c5dc58f",
   "metadata": {},
   "outputs": [],
   "source": [
    "## If you decide to get the indirect path to a file from somehwere else in the directory, you will need to import the `os` module with your Pandas dependency using the following code: \n",
    "\n",
    "## # Add the dependencies.\n",
    "\n",
    "## import pandas as pd\n",
    "## import os\n",
    "\n",
    "## # Files to load\n",
    "## school_data_to_load = os.path.join(\"Resources\", \"schools_complete.csv\")\n",
    "## student_data_to_load = os.path.join(\"Resources\", \"students_complete.csv\")"
   ]
  },
  {
   "cell_type": "code",
   "execution_count": null,
   "id": "6d72a461",
   "metadata": {},
   "outputs": [],
   "source": [
    "# Read the school data file and store it in a Pandas DataFrame.\n",
    "school_data_df = pd.read_csv(school_data_to_load)\n",
    "school_data_df\n",
    "## add school_data_df.head for top five rows, school_data_df.tail for bottom 5 rows, and school_data_df.head(number) for customer number of rows from the top."
   ]
  },
  {
   "cell_type": "code",
   "execution_count": null,
   "id": "41edb2d1",
   "metadata": {},
   "outputs": [],
   "source": [
    "# Read the student data file and store it in a Pandas DataFrame.\n",
    "student_data_df = pd.read_csv(student_data_to_load)\n",
    "student_data_df.head() ## <-- .head() displays top 5 rows"
   ]
  },
  {
   "cell_type": "code",
   "execution_count": null,
   "id": "d2bd4079",
   "metadata": {},
   "outputs": [],
   "source": [
    "# Determine if there are any missing values in the school data.\n",
    "school_data_df.count()"
   ]
  },
  {
   "cell_type": "code",
   "execution_count": null,
   "id": "7a9296f2",
   "metadata": {},
   "outputs": [],
   "source": [
    "# Determine if there are any missing values in the student data.\n",
    "student_data_df.count()"
   ]
  },
  {
   "cell_type": "code",
   "execution_count": null,
   "id": "e6b89c59",
   "metadata": {},
   "outputs": [],
   "source": [
    "# Determine if there are any missing values in the school data.\n",
    "school_data_df.isnull()"
   ]
  },
  {
   "cell_type": "code",
   "execution_count": null,
   "id": "d2e33006",
   "metadata": {},
   "outputs": [],
   "source": [
    "# Determine if there are any missing values in the student data.\n",
    "student_data_df.isnull()"
   ]
  },
  {
   "cell_type": "code",
   "execution_count": null,
   "id": "c90d34d7",
   "metadata": {},
   "outputs": [],
   "source": [
    "# Determine if there are any missing values in the student data.\n",
    "student_data_df.isnull().sum()\n",
    "\n",
    "## this is a more straightforward way to show false rows in lots of data, as opposed to the above query."
   ]
  },
  {
   "cell_type": "code",
   "execution_count": null,
   "id": "112251be",
   "metadata": {},
   "outputs": [],
   "source": [
    "# Determine if there are not any missing values in the school data.\n",
    "school_data_df.notnull()"
   ]
  },
  {
   "cell_type": "code",
   "execution_count": null,
   "id": "bf9da98b",
   "metadata": {},
   "outputs": [],
   "source": [
    "# Determine if there are not any missing values in the student data.\n",
    "student_data_df.notnull().sum()"
   ]
  },
  {
   "cell_type": "code",
   "execution_count": null,
   "id": "56bfd9ee",
   "metadata": {},
   "outputs": [],
   "source": [
    "# Determine data types for the school DataFrame.\n",
    "school_data_df.dtypes"
   ]
  },
  {
   "cell_type": "code",
   "execution_count": null,
   "id": "2f28b7c9",
   "metadata": {},
   "outputs": [],
   "source": [
    "# Determine data types for the student DataFrame.\n",
    "student_data_df.dtypes"
   ]
  },
  {
   "cell_type": "code",
   "execution_count": null,
   "id": "6bc9cb4b",
   "metadata": {},
   "outputs": [],
   "source": [
    "# Add each prefix and suffix to remove to a list.\n",
    "prefixes_suffixes = [\"Dr. \", \"Mr. \",\"Ms. \", \"Mrs. \", \"Miss \", \" MD\", \" DDS\", \" DVM\", \" PhD\"]"
   ]
  },
  {
   "cell_type": "code",
   "execution_count": null,
   "id": "189fa66e",
   "metadata": {},
   "outputs": [],
   "source": [
    "# Iterate through the words in the \"prefixes_suffixes\" list and replace them with an empty space, \"\".\n",
    "for word in prefixes_suffixes:\n",
    "    student_data_df[\"student_name\"] = student_data_df[\"student_name\"].str.replace(word,\"\")"
   ]
  },
  {
   "cell_type": "code",
   "execution_count": null,
   "id": "fc403c8b",
   "metadata": {},
   "outputs": [],
   "source": [
    "# Combine the data into a single dataset.\n",
    "school_data_complete_df = pd.merge(student_data_df, school_data_df, on=[\"school_name\", \"school_name\"])\n",
    "school_data_complete_df.head()"
   ]
  },
  {
   "cell_type": "code",
   "execution_count": null,
   "id": "5094bde3",
   "metadata": {},
   "outputs": [],
   "source": [
    "# Get the total number of students.\n",
    "student_count = school_data_complete_df[\"Student ID\"].count()\n",
    "student_count"
   ]
  },
  {
   "cell_type": "code",
   "execution_count": null,
   "id": "797e3efa",
   "metadata": {},
   "outputs": [],
   "source": [
    "# Calculate the total number of schools.\n",
    "school_count = school_data_df[\"school_name\"].count()\n",
    "school_count"
   ]
  },
  {
   "cell_type": "code",
   "execution_count": null,
   "id": "b6635d4a",
   "metadata": {},
   "outputs": [],
   "source": [
    "# Calculate the total number of schools\n",
    "school_count_2 = school_data_complete_df[\"school_name\"].unique()\n",
    "school_count_2"
   ]
  },
  {
   "cell_type": "code",
   "execution_count": null,
   "id": "8d03e682",
   "metadata": {},
   "outputs": [],
   "source": [
    "# Calculate the total budget.\n",
    "total_budget = school_data_df[\"budget\"].sum()\n",
    "total_budget"
   ]
  },
  {
   "cell_type": "code",
   "execution_count": null,
   "id": "f6c7b2e4",
   "metadata": {},
   "outputs": [],
   "source": [
    "# Calculate the average reading score.\n",
    "average_reading_score = school_data_complete_df[\"reading_score\"].mean()\n",
    "average_reading_score"
   ]
  },
  {
   "cell_type": "code",
   "execution_count": null,
   "id": "53177757",
   "metadata": {},
   "outputs": [],
   "source": [
    "# Calculate the average reading score.\n",
    "average_math_score = school_data_complete_df[\"math_score\"].mean()\n",
    "average_math_score"
   ]
  },
  {
   "cell_type": "code",
   "execution_count": null,
   "id": "a18dc26d",
   "metadata": {},
   "outputs": [],
   "source": [
    "# passing_math = school_data_complete_df[\"math_score\"] >= 70\n",
    "# passing_math.head()\n",
    "## passing_reading = school_data_complete_df[\"reading_score\"] >= 70"
   ]
  },
  {
   "cell_type": "code",
   "execution_count": null,
   "id": "e5234d98",
   "metadata": {},
   "outputs": [],
   "source": [
    "# Get all the students who are passing math in a new DataFrame.\n",
    "passing_math = school_data_complete_df[school_data_complete_df[\"math_score\"] >= 70]\n",
    "passing_math.head()"
   ]
  },
  {
   "cell_type": "code",
   "execution_count": null,
   "id": "dcc73344",
   "metadata": {},
   "outputs": [],
   "source": [
    "# Get all the students that are passing reading in a new DataFrame.\n",
    "passing_reading = school_data_complete_df[school_data_complete_df[\"reading_score\"] >= 70]\n",
    "passing_reading.head()"
   ]
  },
  {
   "cell_type": "code",
   "execution_count": null,
   "id": "41e3f992",
   "metadata": {},
   "outputs": [],
   "source": [
    "# Calculate the number of students passing math.\n",
    "passing_math_count = passing_math[\"student_name\"].count()\n",
    "\n",
    "# Calculate the number of students passing reading.\n",
    "passing_reading_count = passing_reading[\"student_name\"].count()\n",
    "\n",
    "#print passing counts\n",
    "print (passing_math_count)\n",
    "print (passing_reading_count)"
   ]
  },
  {
   "cell_type": "code",
   "execution_count": null,
   "id": "c2bb85da",
   "metadata": {},
   "outputs": [],
   "source": [
    "# Calculate the percent that passed math.\n",
    "passing_math_percentage = passing_math_count / float(student_count) * 100\n",
    "\n",
    "# Calculate the percent that passed reading.\n",
    "passing_reading_percentage = passing_reading_count / float(student_count) * 100\n",
    "\n",
    "#print passing counts\n",
    "print (passing_math_percentage)\n",
    "print (passing_reading_percentage)"
   ]
  },
  {
   "cell_type": "code",
   "execution_count": null,
   "id": "349defa8",
   "metadata": {},
   "outputs": [],
   "source": [
    "# Calculate the students who passed both math and reading.\n",
    "passing_math_reading = school_data_complete_df[(school_data_complete_df[\"math_score\"] >= 70) & (school_data_complete_df[\"reading_score\"] >= 70)]\n",
    "\n",
    "passing_math_reading.head()"
   ]
  },
  {
   "cell_type": "code",
   "execution_count": null,
   "id": "61a7882d",
   "metadata": {},
   "outputs": [],
   "source": [
    "# Calculate the number of students who passed both math and reading.\n",
    "overall_passing_math_reading_count = passing_math_reading[\"student_name\"].count()\n",
    "overall_passing_math_reading_count"
   ]
  },
  {
   "cell_type": "code",
   "execution_count": null,
   "id": "e814681c",
   "metadata": {
    "scrolled": true
   },
   "outputs": [],
   "source": [
    "# Calculate the overall passing percentage.\n",
    "overall_passing_percentage = overall_passing_math_reading_count / student_count * 100\n",
    "overall_passing_percentage"
   ]
  },
  {
   "cell_type": "markdown",
   "id": "5525d6e2",
   "metadata": {},
   "source": [
    "4.7.7 Create a District Summary DataFrame"
   ]
  },
  {
   "cell_type": "code",
   "execution_count": null,
   "id": "564e24fe",
   "metadata": {},
   "outputs": [],
   "source": [
    "# Adding a list of values with keys to create a new DataFrame.\n",
    "district_summary_df = pd.DataFrame(\n",
    "          [{\"Total Schools\": school_count,\n",
    "          \"Total Students\": student_count,\n",
    "          \"Total Budget\": total_budget,\n",
    "          \"Average Math Score\": average_math_score,\n",
    "          \"Average Reading Score\": average_reading_score,\n",
    "          \"% Passing Math\": passing_math_percentage,\n",
    "         \"% Passing Reading\": passing_reading_percentage,\n",
    "        \"% Overall Passing\": overall_passing_percentage}])\n",
    "district_summary_df"
   ]
  },
  {
   "cell_type": "markdown",
   "id": "5a5f6f46",
   "metadata": {},
   "source": [
    "4.7.8\n",
    "Format Columns"
   ]
  },
  {
   "cell_type": "code",
   "execution_count": null,
   "id": "d1100729",
   "metadata": {
    "scrolled": true
   },
   "outputs": [],
   "source": [
    "# Format the \"Total Students\" to have the comma for a thousands separator.\n",
    "district_summary_df[\"Total Students\"] = district_summary_df[\"Total Students\"].map(\"{:,}\".format)\n",
    "\n",
    "district_summary_df[\"Total Students\"]"
   ]
  },
  {
   "cell_type": "code",
   "execution_count": null,
   "id": "2bbacf19",
   "metadata": {},
   "outputs": [],
   "source": [
    "# Format \"Total Budget\" to have the comma for a thousands separator, a decimal separator, and a \"$\".\n",
    "\n",
    "district_summary_df[\"Total Budget\"] = district_summary_df[\"Total Budget\"].map(\"${:,.2f}\".format)\n",
    "\n",
    "district_summary_df[\"Total Budget\"]"
   ]
  },
  {
   "cell_type": "code",
   "execution_count": null,
   "id": "88555de8",
   "metadata": {},
   "outputs": [],
   "source": [
    "# Format the columns.\n",
    "district_summary_df[\"Average Math Score\"] = district_summary_df[\"Average Math Score\"].map(\"{:.1f}\".format)\n",
    "\n",
    "district_summary_df[\"Average Reading Score\"] = district_summary_df[\"Average Reading Score\"].map(\"{:.1f}\".format)\n",
    "\n",
    "district_summary_df[\"% Passing Math\"] = district_summary_df[\"% Passing Math\"].map(\"{:.0f}\".format)\n",
    "\n",
    "district_summary_df[\"% Passing Reading\"] = district_summary_df[\"% Passing Reading\"].map(\"{:.0f}\".format)\n",
    "\n",
    "district_summary_df[\"% Overall Passing\"] = district_summary_df[\"% Overall Passing\"].map(\"{:.0f}\".format)\n",
    "\n",
    "district_summary_df"
   ]
  },
  {
   "cell_type": "code",
   "execution_count": null,
   "id": "21ee879c",
   "metadata": {},
   "outputs": [],
   "source": [
    "# Reorder the columns in the order you want them to appear.\n",
    "new_column_order = [\"Total Schools\", \"Total Students\", \"Total Budget\",\"Average Math Score\", \"Average Reading Score\", \"% Passing Math\", \"% Passing Reading\", \"% Overall Passing\"]\n",
    "\n",
    "# Assign district summary df the new column order.\n",
    "district_summary_df = district_summary_df[new_column_order]\n",
    "district_summary_df"
   ]
  },
  {
   "cell_type": "markdown",
   "id": "e527d8f4",
   "metadata": {},
   "source": [
    "Set the Index to the School Name"
   ]
  },
  {
   "cell_type": "code",
   "execution_count": null,
   "id": "fbc357bb",
   "metadata": {},
   "outputs": [],
   "source": [
    "# Determine the school type.\n",
    "per_school_types = school_data_df.set_index([\"school_name\"])[\"type\"]\n",
    "per_school_types"
   ]
  },
  {
   "cell_type": "code",
   "execution_count": null,
   "id": "d8df0391",
   "metadata": {},
   "outputs": [],
   "source": [
    "# Add the per_school_types into a DataFrame for testing.\n",
    "df = pd.DataFrame(per_school_types)\n",
    "df"
   ]
  },
  {
   "cell_type": "markdown",
   "id": "03cf1027",
   "metadata": {},
   "source": [
    "4.8.2 Get the Student Count Per School"
   ]
  },
  {
   "cell_type": "code",
   "execution_count": null,
   "id": "f1bd9ceb",
   "metadata": {},
   "outputs": [],
   "source": [
    "# Calculate the total student count.\n",
    "per_school_counts = school_data_df.set_index([\"school_name\"])[\"size\"]\n",
    "per_school_counts"
   ]
  },
  {
   "cell_type": "code",
   "execution_count": null,
   "id": "610667d0",
   "metadata": {},
   "outputs": [],
   "source": [
    "# Calculate the total student count.\n",
    "# this is an optional way as opposed to the cell above. \n",
    "# per_school_counts = school_data_complete_df[\"school_name\"].value_counts()\n",
    "# per_school_counts"
   ]
  },
  {
   "cell_type": "markdown",
   "id": "62100773",
   "metadata": {},
   "source": [
    "4.8.3\n",
    "Get the Budget Per Student"
   ]
  },
  {
   "cell_type": "code",
   "execution_count": null,
   "id": "2fdc370a",
   "metadata": {},
   "outputs": [],
   "source": [
    "# Calculate the total school budget.\n",
    "per_school_budget = school_data_df.set_index([\"school_name\"])[\"budget\"]\n",
    "per_school_budget"
   ]
  },
  {
   "cell_type": "code",
   "execution_count": null,
   "id": "517a8cb3",
   "metadata": {},
   "outputs": [],
   "source": [
    "# Calculate the per capita spending.\n",
    "per_school_capita = per_school_budget / per_school_counts\n",
    "per_school_capita"
   ]
  },
  {
   "cell_type": "markdown",
   "id": "f653feb5",
   "metadata": {},
   "source": [
    "4.8.4\n",
    "Get the Score Averages Per School"
   ]
  },
  {
   "cell_type": "code",
   "execution_count": null,
   "id": "5d8fae09",
   "metadata": {},
   "outputs": [],
   "source": [
    "# Calculate the math scores.\n",
    "student_school_math = student_data_df.set_index([\"school_name\"])[\"math_score\"]\n",
    "student_school_math"
   ]
  },
  {
   "cell_type": "code",
   "execution_count": null,
   "id": "2638d333",
   "metadata": {},
   "outputs": [],
   "source": [
    "# Calculate the average math scores.\n",
    "per_school_averages = school_data_complete_df.groupby([\"school_name\"]).mean()\n",
    "per_school_averages"
   ]
  },
  {
   "cell_type": "code",
   "execution_count": null,
   "id": "4fb016c8",
   "metadata": {},
   "outputs": [],
   "source": [
    "# Calculate the average test scores.\n",
    "per_school_math = school_data_complete_df.groupby([\"school_name\"]).mean()[\"math_score\"]\n",
    "\n",
    "per_school_reading = school_data_complete_df.groupby([\"school_name\"]).mean()[\"reading_score\"]\n",
    "\n",
    "per_school_math\n",
    "per_school_reading"
   ]
  },
  {
   "cell_type": "markdown",
   "id": "32150ed3",
   "metadata": {},
   "source": [
    "4.8.5\n",
    "Get the Passing Percentages Per School"
   ]
  },
  {
   "cell_type": "code",
   "execution_count": null,
   "id": "1acf6f80",
   "metadata": {},
   "outputs": [],
   "source": [
    "# Calculate the passing scores by creating a filtered DataFrame.\n",
    "per_school_passing_math = school_data_complete_df[(school_data_complete_df[\"math_score\"] >= 70)]\n",
    "\n",
    "per_school_passing_reading = school_data_complete_df[(school_data_complete_df[\"reading_score\"] >= 70)]\n",
    "\n",
    "per_school_passing_math.head()"
   ]
  },
  {
   "cell_type": "code",
   "execution_count": null,
   "id": "e5e59e13",
   "metadata": {},
   "outputs": [],
   "source": [
    "# Calculate the number of students passing math and passing reading by school.\n",
    "per_school_passing_math = per_school_passing_math.groupby([\"school_name\"]).count()[\"student_name\"]\n",
    "\n",
    "per_school_passing_reading = per_school_passing_reading.groupby([\"school_name\"]).count()[\"student_name\"]\n",
    "\n",
    "per_school_passing_math"
   ]
  },
  {
   "cell_type": "code",
   "execution_count": null,
   "id": "a91773c9",
   "metadata": {},
   "outputs": [],
   "source": [
    "# Calculate the percentage of passing math and reading scores per school.\n",
    "per_school_passing_math = per_school_passing_math / per_school_counts * 100\n",
    "\n",
    "per_school_passing_reading = per_school_passing_reading / per_school_counts * 100\n",
    "\n",
    "per_school_passing_math"
   ]
  },
  {
   "cell_type": "code",
   "execution_count": null,
   "id": "f8a5f8f4",
   "metadata": {},
   "outputs": [],
   "source": [
    "# Calculate the students who passed both math and reading.\n",
    "per_passing_math_reading = school_data_complete_df[(school_data_complete_df[\"math_score\"] >= 70) & (school_data_complete_df[\"reading_score\"] >= 70)]\n",
    "\n",
    "per_passing_math_reading.head()"
   ]
  },
  {
   "cell_type": "code",
   "execution_count": null,
   "id": "93a7a424",
   "metadata": {},
   "outputs": [],
   "source": [
    "# Calculate the number of students who passed both math and reading.\n",
    "per_passing_math_reading = per_passing_math_reading.groupby([\"school_name\"]).count()[\"student_name\"]"
   ]
  },
  {
   "cell_type": "code",
   "execution_count": null,
   "id": "ff665b79",
   "metadata": {},
   "outputs": [],
   "source": [
    "# Calculate the overall passing percentage.\n",
    "per_overall_passing_percentage = per_passing_math_reading / per_school_counts * 100\n",
    "per_overall_passing_percentage"
   ]
  },
  {
   "cell_type": "code",
   "execution_count": null,
   "id": "73b496e8",
   "metadata": {},
   "outputs": [],
   "source": [
    "# Adding a list of values with keys to create a new DataFrame.\n",
    "\n",
    "per_school_summary_df = pd.DataFrame({\n",
    "             \"School Type\": per_school_types,\n",
    "             \"Total Students\": per_school_counts,\n",
    "             \"Total School Budget\": per_school_budget,\n",
    "             \"Per Student Budget\": per_school_capita,\n",
    "             \"Average Math Score\": per_school_math,\n",
    "           \"Average Reading Score\": per_school_reading,\n",
    "           \"% Passing Math\": per_school_passing_math,\n",
    "           \"% Passing Reading\": per_school_passing_reading,\n",
    "           \"% Overall Passing\": per_overall_passing_percentage})\n",
    "per_school_summary_df.head()"
   ]
  },
  {
   "cell_type": "markdown",
   "id": "bda6f9e9",
   "metadata": {},
   "source": [
    "4.8.7\n",
    "Clean Up the DataFrame"
   ]
  },
  {
   "cell_type": "code",
   "execution_count": null,
   "id": "884dba6c",
   "metadata": {},
   "outputs": [],
   "source": [
    "# Format the Total School Budget and the Per Student Budget columns.\n",
    "per_school_summary_df[\"Total School Budget\"] = per_school_summary_df[\"Total School Budget\"].map(\"${:,.2f}\".format)\n",
    "\n",
    "per_school_summary_df[\"Per Student Budget\"] = per_school_summary_df[\"Per Student Budget\"].map(\"${:,.2f}\".format)\n",
    "\n",
    "\n",
    "# Display the data frame\n",
    "per_school_summary_df.head()"
   ]
  },
  {
   "cell_type": "code",
   "execution_count": null,
   "id": "00409eb0",
   "metadata": {},
   "outputs": [],
   "source": [
    "# Reorder the columns in the order you want them to appear.\n",
    "new_column_order = [\"School Type\", \"Total Students\", \"Total School Budget\", \"Per Student Budget\", \"Average Math Score\", \"Average Reading Score\", \"% Passing Math\", \"% Passing Reading\", \"% Overall Passing\"]\n",
    "\n",
    "# Assign district summary df the new column order.\n",
    "per_school_summary_df = per_school_summary_df[new_column_order]\n",
    "\n",
    "per_school_summary_df.head()"
   ]
  },
  {
   "cell_type": "markdown",
   "id": "f711171e",
   "metadata": {},
   "source": [
    "4.9.1\n",
    "Find the Highest Performing Schools"
   ]
  },
  {
   "cell_type": "code",
   "execution_count": null,
   "id": "10957186",
   "metadata": {},
   "outputs": [],
   "source": [
    "# Sort and show top five schools.\n",
    "top_schools = per_school_summary_df.sort_values([\"% Overall Passing\"], ascending=False)\n",
    "\n",
    "top_schools.head()"
   ]
  },
  {
   "cell_type": "markdown",
   "id": "4dacdb71",
   "metadata": {},
   "source": [
    "4.9.2\n",
    "Find the Lowest Performing Schools"
   ]
  },
  {
   "cell_type": "code",
   "execution_count": null,
   "id": "8d753d39",
   "metadata": {},
   "outputs": [],
   "source": [
    "# Sort and show top five schools.\n",
    "bottom_schools = per_school_summary_df.sort_values([\"% Overall Passing\"], ascending=True)\n",
    "\n",
    "bottom_schools.head()"
   ]
  },
  {
   "cell_type": "markdown",
   "id": "0510d345",
   "metadata": {},
   "source": [
    "4.10.1\n",
    "Create Grade-Level DataFrames"
   ]
  },
  {
   "cell_type": "code",
   "execution_count": null,
   "id": "8f53a13e",
   "metadata": {},
   "outputs": [],
   "source": [
    "# Create a grade level DataFrames.\n",
    "ninth_graders = school_data_complete_df[(school_data_complete_df[\"grade\"] == \"9th\")]\n",
    "\n",
    "tenth_graders = school_data_complete_df[(school_data_complete_df[\"grade\"] == \"10th\")]\n",
    "\n",
    "eleventh_graders = school_data_complete_df[(school_data_complete_df[\"grade\"] == \"11th\")]\n",
    "\n",
    "twelfth_graders = school_data_complete_df[(school_data_complete_df[\"grade\"] == \"12th\")]\n",
    "\n",
    "ninth_graders.head()"
   ]
  },
  {
   "cell_type": "markdown",
   "id": "a5c3925d",
   "metadata": {},
   "source": [
    "4.10.2\n",
    "Score Averages Grouped by School Name"
   ]
  },
  {
   "cell_type": "code",
   "execution_count": null,
   "id": "23e688b3",
   "metadata": {},
   "outputs": [],
   "source": [
    "# Group each grade level DataFrame by the school name for the average math score.\n",
    "ninth_grade_math_scores = ninth_graders.groupby([\"school_name\"]).mean()[\"math_score\"]\n",
    "\n",
    "tenth_grade_math_scores = tenth_graders.groupby([\"school_name\"]).mean()[\"math_score\"]\n",
    "\n",
    "eleventh_grade_math_scores = eleventh_graders.groupby([\"school_name\"]).mean()[\"math_score\"]\n",
    "\n",
    "twelfth_grade_math_scores = twelfth_graders.groupby([\"school_name\"]).mean()[\"math_score\"]\n",
    "\n",
    "eleventh_grade_math_scores.head(100)"
   ]
  },
  {
   "cell_type": "code",
   "execution_count": null,
   "id": "1f212913",
   "metadata": {},
   "outputs": [],
   "source": [
    "# Group each grade level DataFrame by the school name for the average reading score.\n",
    "ninth_grade_reading_scores = ninth_graders.groupby([\"school_name\"]).mean()[\"reading_score\"]\n",
    "\n",
    "tenth_grade_reading_scores = tenth_graders.groupby([\"school_name\"]).mean()[\"reading_score\"]\n",
    "\n",
    "eleventh_grade_reading_scores = eleventh_graders.groupby([\"school_name\"]).mean()[\"reading_score\"]\n",
    "\n",
    "twelfth_grade_reading_scores = twelfth_graders.groupby([\"school_name\"]).mean()[\"reading_score\"]\n",
    "\n",
    "twelfth_grade_reading_scores.head(100)"
   ]
  },
  {
   "cell_type": "markdown",
   "id": "32c59cc2",
   "metadata": {},
   "source": [
    "4.10.3\n",
    "Combine each grade level Series into a DataFrame"
   ]
  },
  {
   "cell_type": "code",
   "execution_count": null,
   "id": "2da70b5c",
   "metadata": {},
   "outputs": [],
   "source": [
    "# Combine each grade level Series for average math scores by school into a single DataFrame.\n",
    "math_scores_by_grade = pd.DataFrame({\n",
    "               \"9th\": ninth_grade_math_scores,\n",
    "               \"10th\": tenth_grade_math_scores,\n",
    "               \"11th\": eleventh_grade_math_scores,\n",
    "               \"12th\": twelfth_grade_math_scores})\n",
    "\n",
    "math_scores_by_grade.head()"
   ]
  },
  {
   "cell_type": "code",
   "execution_count": null,
   "id": "67d8b4d4",
   "metadata": {},
   "outputs": [],
   "source": [
    "# Combine each grade level Series for average reading scores by school into a single DataFrame.\n",
    "reading_scores_by_grade = pd.DataFrame({\n",
    "              \"9th\": ninth_grade_reading_scores,\n",
    "              \"10th\": tenth_grade_reading_scores,\n",
    "              \"11th\": eleventh_grade_reading_scores,\n",
    "              \"12th\": twelfth_grade_reading_scores})\n",
    "\n",
    "reading_scores_by_grade.head()"
   ]
  },
  {
   "cell_type": "markdown",
   "id": "efa678ca",
   "metadata": {},
   "source": [
    "4.10.4\n",
    "Format the Averages and Remove the Index Name"
   ]
  },
  {
   "cell_type": "code",
   "execution_count": null,
   "id": "f8da3697",
   "metadata": {},
   "outputs": [],
   "source": [
    "# Format each grade column.\n",
    "math_scores_by_grade[\"9th\"] = math_scores_by_grade[\"9th\"].map(\"{:.1f}\".format)\n",
    "\n",
    "math_scores_by_grade[\"10th\"] = math_scores_by_grade[\"10th\"].map(\"{:.1f}\".format)\n",
    "\n",
    "math_scores_by_grade[\"11th\"] = math_scores_by_grade[\"11th\"].map(\"{:.1f}\".format)\n",
    "\n",
    "math_scores_by_grade[\"12th\"] = math_scores_by_grade[\"12th\"].map(\"{:.1f}\".format)\n",
    "\n",
    "# Make sure the columns are in the correct order.\n",
    "math_scores_by_grade = math_scores_by_grade[\n",
    "             [\"9th\", \"10th\", \"11th\", \"12th\"]]\n",
    "\n",
    "# Remove the index name.\n",
    "math_scores_by_grade.index.name = None\n",
    "# Display the DataFrame.\n",
    "math_scores_by_grade.head()"
   ]
  },
  {
   "cell_type": "code",
   "execution_count": null,
   "id": "bea6451d",
   "metadata": {},
   "outputs": [],
   "source": [
    "# Format each grade column.\n",
    "reading_scores_by_grade[\"9th\"] = reading_scores_by_grade[\"9th\"].map(\"{:,.1f}\".format)\n",
    "\n",
    "reading_scores_by_grade[\"10th\"] = reading_scores_by_grade[\"10th\"].map(\"{:,.1f}\".format)\n",
    "\n",
    "reading_scores_by_grade[\"11th\"] = reading_scores_by_grade[\"11th\"].map(\"{:,.1f}\".format)\n",
    "\n",
    "reading_scores_by_grade[\"12th\"] = reading_scores_by_grade[\"12th\"].map(\"{:,.1f}\".format)\n",
    "\n",
    "# Make sure the columns are in the correct order.\n",
    "reading_scores_by_grade = reading_scores_by_grade[\n",
    "             [\"9th\", \"10th\", \"11th\", \"12th\"]]\n",
    "\n",
    "# Remove the index name.\n",
    "reading_scores_by_grade.index.name = None\n",
    "# Display the data frame.\n",
    "reading_scores_by_grade.head()"
   ]
  },
  {
   "cell_type": "markdown",
   "id": "87168838",
   "metadata": {},
   "source": [
    "4.11.1\n",
    "Establish the Spending Ranges per Student"
   ]
  },
  {
   "cell_type": "code",
   "execution_count": null,
   "id": "05ec950a",
   "metadata": {},
   "outputs": [],
   "source": [
    "# Get the descriptive statistics for the per_school_capita.\n",
    "per_school_capita.describe()"
   ]
  },
  {
   "cell_type": "markdown",
   "id": "cef576dd",
   "metadata": {},
   "source": [
    "Group the Series on the Spending Ranges"
   ]
  },
  {
   "cell_type": "code",
   "execution_count": null,
   "id": "6282ade3",
   "metadata": {},
   "outputs": [],
   "source": [
    "# Cut the per_school_capita into the spending ranges.\n",
    "spending_bins = [0, 585, 615, 645, 675]\n",
    "pd.cut(per_school_capita, spending_bins)"
   ]
  },
  {
   "cell_type": "code",
   "execution_count": null,
   "id": "2ed01fae",
   "metadata": {},
   "outputs": [],
   "source": [
    "# Cut the per_school_capita into the spending ranges.\n",
    "spending_bins = [0, 585, 615, 645, 675]\n",
    "pd.cut(per_school_capita, spending_bins)"
   ]
  },
  {
   "cell_type": "code",
   "execution_count": null,
   "id": "7a05380c",
   "metadata": {},
   "outputs": [],
   "source": [
    "# Cut the per_school_capita into the spending ranges.\n",
    "spending_bins = [0, 585, 615, 645, 675]\n",
    "per_school_capita.groupby(pd.cut(per_school_capita, spending_bins)).count()"
   ]
  },
  {
   "cell_type": "code",
   "execution_count": null,
   "id": "259a5fac",
   "metadata": {},
   "outputs": [],
   "source": [
    "# Cut the per_school_capita into the spending ranges.\n",
    "spending_bins = [0, 585, 630, 645, 675]\n",
    "per_school_capita.groupby(pd.cut(per_school_capita, spending_bins)).count()"
   ]
  },
  {
   "cell_type": "code",
   "execution_count": null,
   "id": "69acbfe3",
   "metadata": {},
   "outputs": [],
   "source": [
    "# Establish the spending bins and group names.\n",
    "spending_bins = [0, 585, 630, 645, 675]\n",
    "group_names = [\"<$586\", \"$586-630\", \"$631-645\", \"$646-675\"]"
   ]
  },
  {
   "cell_type": "markdown",
   "id": "befc48cf",
   "metadata": {},
   "source": [
    "4.11.2\n",
    "Categorize the Spending Bins"
   ]
  },
  {
   "cell_type": "code",
   "execution_count": null,
   "id": "848ed0c7",
   "metadata": {},
   "outputs": [],
   "source": [
    "# Categorize spending based on the bins.\n",
    "per_school_summary_df[\"Spending Ranges (Per Student)\"] = pd.cut(per_school_capita, spending_bins, labels=group_names)\n",
    "\n",
    "per_school_summary_df"
   ]
  },
  {
   "cell_type": "markdown",
   "id": "7e7400cc",
   "metadata": {},
   "source": [
    "4.11.3\n",
    "Group by the Spending Ranges"
   ]
  },
  {
   "cell_type": "code",
   "execution_count": null,
   "id": "a8c7ea30",
   "metadata": {},
   "outputs": [],
   "source": [
    "# Calculate averages for the desired columns.\n",
    "spending_math_scores = per_school_summary_df.groupby([\"Spending Ranges (Per Student)\"]).mean()[\"Average Math Score\"]\n",
    "\n",
    "spending_reading_scores = per_school_summary_df.groupby([\"Spending Ranges (Per Student)\"]).mean()[\"Average Reading Score\"]\n",
    "\n",
    "spending_passing_math = per_school_summary_df.groupby([\"Spending Ranges (Per Student)\"]).mean()[\"% Passing Math\"]\n",
    "\n",
    "spending_passing_reading = per_school_summary_df.groupby([\"Spending Ranges (Per Student)\"]).mean()[\"% Passing Reading\"]\n",
    "\n",
    "overall_passing_spending = per_school_summary_df.groupby([\"Spending Ranges (Per Student)\"]).mean()[\"% Overall Passing\"]\n",
    "overall_passing_spending "
   ]
  },
  {
   "cell_type": "markdown",
   "id": "91a05d4c",
   "metadata": {},
   "source": [
    "4.11.4\n",
    "Create a DataFrame for the Scores by School Spending"
   ]
  },
  {
   "cell_type": "code",
   "execution_count": null,
   "id": "818ba9b5",
   "metadata": {},
   "outputs": [],
   "source": [
    "# Assemble into DataFrame.\n",
    "spending_summary_df = pd.DataFrame({\n",
    "          \"Average Math Score\" : spending_math_scores,\n",
    "          \"Average Reading Score\": spending_reading_scores,\n",
    "          \"% Passing Math\": spending_passing_math,\n",
    "          \"% Passing Reading\": spending_passing_reading,\n",
    "          \"% Overall Passing\": overall_passing_spending})\n",
    "\n",
    "spending_summary_df"
   ]
  },
  {
   "cell_type": "code",
   "execution_count": null,
   "id": "aec5ba26",
   "metadata": {},
   "outputs": [],
   "source": [
    "# Formatting\n",
    "spending_summary_df[\"Average Math Score\"] = spending_summary_df[\"Average Math Score\"].map(\"{:.1f}\".format)\n",
    "\n",
    "spending_summary_df[\"Average Reading Score\"] = spending_summary_df[\"Average Reading Score\"].map(\"{:.1f}\".format)\n",
    "\n",
    "spending_summary_df[\"% Passing Math\"] = spending_summary_df[\"% Passing Math\"].map(\"{:.0f}\".format)\n",
    "\n",
    "spending_summary_df[\"% Passing Reading\"] = spending_summary_df[\"% Passing Reading\"].map(\"{:.0f}\".format)\n",
    "\n",
    "spending_summary_df[\"% Overall Passing\"] = spending_summary_df[\"% Overall Passing\"].map(\"{:.0f}\".format)\n",
    "\n",
    "spending_summary_df"
   ]
  },
  {
   "cell_type": "markdown",
   "id": "9a136756",
   "metadata": {},
   "source": [
    "4.12.1\n",
    "Create Bins for School Size"
   ]
  },
  {
   "cell_type": "code",
   "execution_count": null,
   "id": "4b102dc9",
   "metadata": {},
   "outputs": [],
   "source": [
    "# Establish the bins.\n",
    "size_bins = [0, 999, 1999, 5000]\n",
    "group_names = [\"Small (<1000)\", \"Medium (1000-1999)\", \"Large (2000-5000)\"]"
   ]
  },
  {
   "cell_type": "markdown",
   "id": "08fb8fc4",
   "metadata": {},
   "source": [
    "4.12.2\n",
    "Categorize the Size Bins"
   ]
  },
  {
   "cell_type": "code",
   "execution_count": null,
   "id": "b6ef22a4",
   "metadata": {},
   "outputs": [],
   "source": [
    "# Categorize spending based on the bins.\n",
    "per_school_summary_df[\"School Size\"] = pd.cut(per_school_summary_df[\"Total Students\"], size_bins, labels=group_names)\n",
    "\n",
    "per_school_summary_df.head()"
   ]
  },
  {
   "cell_type": "code",
   "execution_count": null,
   "id": "5a04b061",
   "metadata": {},
   "outputs": [],
   "source": [
    "# Calculate averages for the desired columns.\n",
    "size_math_scores = per_school_summary_df.groupby([\"School Size\"]).mean()[\"Average Math Score\"]\n",
    "\n",
    "size_reading_scores = per_school_summary_df.groupby([\"School Size\"]).mean()[\"Average Reading Score\"]\n",
    "\n",
    "size_passing_math = per_school_summary_df.groupby([\"School Size\"]).mean()[\"% Passing Math\"]\n",
    "\n",
    "size_passing_reading = per_school_summary_df.groupby([\"School Size\"]).mean()[\"% Passing Reading\"]\n",
    "\n",
    "size_overall_passing = per_school_summary_df.groupby([\"School Size\"]).mean()[\"% Overall Passing\"]"
   ]
  },
  {
   "cell_type": "markdown",
   "id": "b7edf121",
   "metadata": {},
   "source": [
    "4.12.4\n",
    "Create a DataFrame for the Scores by School Size"
   ]
  },
  {
   "cell_type": "code",
   "execution_count": null,
   "id": "b82f17ba",
   "metadata": {},
   "outputs": [],
   "source": [
    "# Assemble into DataFrame.\n",
    "size_summary_df = pd.DataFrame({\n",
    "          \"Average Math Score\" : size_math_scores,\n",
    "          \"Average Reading Score\": size_reading_scores,\n",
    "          \"% Passing Math\": size_passing_math,\n",
    "          \"% Passing Reading\": size_passing_reading,\n",
    "          \"% Overall Passing\": size_overall_passing})\n",
    "\n",
    "size_summary_df"
   ]
  },
  {
   "cell_type": "code",
   "execution_count": null,
   "id": "0cea6072",
   "metadata": {},
   "outputs": [],
   "source": [
    "# Formatting.\n",
    "size_summary_df[\"Average Math Score\"] = size_summary_df[\"Average Math Score\"].map(\"{:.1f}\".format)\n",
    "\n",
    "size_summary_df[\"Average Reading Score\"] = size_summary_df[\"Average Reading Score\"].map(\"{:.1f}\".format)\n",
    "\n",
    "size_summary_df[\"% Passing Math\"] = size_summary_df[\"% Passing Math\"].map(\"{:.0f}\".format)\n",
    "\n",
    "size_summary_df[\"% Passing Reading\"] = size_summary_df[\"% Passing Reading\"].map(\"{:.0f}\".format)\n",
    "\n",
    "size_summary_df[\"% Overall Passing\"] = size_summary_df[\"% Overall Passing\"].map(\"{:.0f}\".format)\n",
    "\n",
    "size_summary_df"
   ]
  },
  {
   "cell_type": "markdown",
   "id": "e14a6c9e",
   "metadata": {},
   "source": [
    "4.13.1\n",
    "Group By School Type"
   ]
  },
  {
   "cell_type": "code",
   "execution_count": null,
   "id": "ffd4a9c8",
   "metadata": {},
   "outputs": [],
   "source": [
    "# Calculate averages for the desired columns.\n",
    "type_math_scores = per_school_summary_df.groupby([\"School Type\"]).mean()[\"Average Math Score\"]\n",
    "\n",
    "type_reading_scores = per_school_summary_df.groupby([\"School Type\"]).mean()[\"Average Reading Score\"]\n",
    "\n",
    "type_passing_math = per_school_summary_df.groupby([\"School Type\"]).mean()[\"% Passing Math\"]\n",
    "\n",
    "type_passing_reading = per_school_summary_df.groupby([\"School Type\"]).mean()[\"% Passing Reading\"]\n",
    "\n",
    "type_overall_passing = per_school_summary_df.groupby([\"School Type\"]).mean()[\"% Overall Passing\"]"
   ]
  },
  {
   "cell_type": "markdown",
   "id": "53001817",
   "metadata": {},
   "source": [
    "4.13.2\n",
    "Create a DataFrame for the Scores by School Type"
   ]
  },
  {
   "cell_type": "code",
   "execution_count": null,
   "id": "cd8fbf1b",
   "metadata": {},
   "outputs": [],
   "source": [
    "# Assemble into DataFrame.\n",
    "type_summary_df = pd.DataFrame({\n",
    "          \"Average Math Score\" : type_math_scores,\n",
    "          \"Average Reading Score\": type_reading_scores,\n",
    "          \"% Passing Math\": type_passing_math,\n",
    "          \"% Passing Reading\": type_passing_reading,\n",
    "          \"% Overall Passing\": type_overall_passing})\n",
    "\n",
    "type_summary_df"
   ]
  },
  {
   "cell_type": "code",
   "execution_count": null,
   "id": "7544b949",
   "metadata": {},
   "outputs": [],
   "source": [
    "# Formatting\n",
    "type_summary_df[\"Average Math Score\"] = type_summary_df[\"Average Math Score\"].map(\"{:.1f}\".format)\n",
    "\n",
    "type_summary_df[\"Average Reading Score\"] = type_summary_df[\"Average Reading Score\"].map(\"{:.1f}\".format)\n",
    "\n",
    "type_summary_df[\"% Passing Math\"] = type_summary_df[\"% Passing Math\"].map(\"{:.0f}\".format)\n",
    "\n",
    "type_summary_df[\"% Passing Reading\"] = type_summary_df[\"% Passing Reading\"].map(\"{:.0f}\".format)\n",
    "\n",
    "type_summary_df[\"% Overall Passing\"] = type_summary_df[\"% Overall Passing\"].map(\"{:.0f}\".format)\n",
    "\n",
    "type_summary_df"
   ]
  },
  {
   "cell_type": "code",
   "execution_count": null,
   "id": "0e5ec29e",
   "metadata": {},
   "outputs": [],
   "source": []
  }
 ],
 "metadata": {
  "interpreter": {
   "hash": "a35515674429a359e7ea307e98ec43d69b2a13124c923dff243ec4b8deae9118"
  },
  "kernelspec": {
   "display_name": "Python 3 (ipykernel)",
   "language": "python",
   "name": "python3"
  },
  "language_info": {
   "codemirror_mode": {
    "name": "ipython",
    "version": 3
   },
   "file_extension": ".py",
   "mimetype": "text/x-python",
   "name": "python",
   "nbconvert_exporter": "python",
   "pygments_lexer": "ipython3",
   "version": "3.9.12"
  }
 },
 "nbformat": 4,
 "nbformat_minor": 5
}
