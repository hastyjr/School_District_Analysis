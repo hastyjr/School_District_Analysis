{
 "cells": [
  {
   "cell_type": "code",
   "execution_count": 4,
   "id": "6d823506",
   "metadata": {},
   "outputs": [],
   "source": [
    "# Add the Pandas dependency.\n",
    "import pandas as pd"
   ]
  },
  {
   "cell_type": "code",
   "execution_count": 5,
   "id": "56e938f3",
   "metadata": {},
   "outputs": [
    {
     "data": {
      "text/html": [
       "<div>\n",
       "<style scoped>\n",
       "    .dataframe tbody tr th:only-of-type {\n",
       "        vertical-align: middle;\n",
       "    }\n",
       "\n",
       "    .dataframe tbody tr th {\n",
       "        vertical-align: top;\n",
       "    }\n",
       "\n",
       "    .dataframe thead th {\n",
       "        text-align: right;\n",
       "    }\n",
       "</style>\n",
       "<table border=\"1\" class=\"dataframe\">\n",
       "  <thead>\n",
       "    <tr style=\"text-align: right;\">\n",
       "      <th></th>\n",
       "      <th>Student ID</th>\n",
       "      <th>student_name</th>\n",
       "      <th>gender</th>\n",
       "      <th>grade</th>\n",
       "      <th>school_name</th>\n",
       "      <th>reading_score</th>\n",
       "      <th>math_score</th>\n",
       "    </tr>\n",
       "  </thead>\n",
       "  <tbody>\n",
       "    <tr>\n",
       "      <th>0</th>\n",
       "      <td>3694</td>\n",
       "      <td>Melissa Dyer</td>\n",
       "      <td>F</td>\n",
       "      <td>12th</td>\n",
       "      <td>Figueroa High School</td>\n",
       "      <td>99</td>\n",
       "      <td>99</td>\n",
       "    </tr>\n",
       "    <tr>\n",
       "      <th>1</th>\n",
       "      <td>4269</td>\n",
       "      <td>Michael Stein Jr.</td>\n",
       "      <td>M</td>\n",
       "      <td>12th</td>\n",
       "      <td>Figueroa High School</td>\n",
       "      <td>99</td>\n",
       "      <td>99</td>\n",
       "    </tr>\n",
       "    <tr>\n",
       "      <th>2</th>\n",
       "      <td>6372</td>\n",
       "      <td>Brandon Francis</td>\n",
       "      <td>M</td>\n",
       "      <td>10th</td>\n",
       "      <td>Shelton High School</td>\n",
       "      <td>99</td>\n",
       "      <td>99</td>\n",
       "    </tr>\n",
       "    <tr>\n",
       "      <th>3</th>\n",
       "      <td>7117</td>\n",
       "      <td>Carol Robinson</td>\n",
       "      <td>F</td>\n",
       "      <td>10th</td>\n",
       "      <td>Shelton High School</td>\n",
       "      <td>99</td>\n",
       "      <td>99</td>\n",
       "    </tr>\n",
       "    <tr>\n",
       "      <th>4</th>\n",
       "      <td>7955</td>\n",
       "      <td>Jennifer Morris</td>\n",
       "      <td>F</td>\n",
       "      <td>9th</td>\n",
       "      <td>Hernandez High School</td>\n",
       "      <td>99</td>\n",
       "      <td>99</td>\n",
       "    </tr>\n",
       "  </tbody>\n",
       "</table>\n",
       "</div>"
      ],
      "text/plain": [
       "   Student ID       student_name gender grade            school_name  \\\n",
       "0        3694       Melissa Dyer      F  12th   Figueroa High School   \n",
       "1        4269  Michael Stein Jr.      M  12th   Figueroa High School   \n",
       "2        6372    Brandon Francis      M  10th    Shelton High School   \n",
       "3        7117     Carol Robinson      F  10th    Shelton High School   \n",
       "4        7955    Jennifer Morris      F   9th  Hernandez High School   \n",
       "\n",
       "   reading_score  math_score  \n",
       "0             99          99  \n",
       "1             99          99  \n",
       "2             99          99  \n",
       "3             99          99  \n",
       "4             99          99  "
      ]
     },
     "execution_count": 5,
     "metadata": {},
     "output_type": "execute_result"
    }
   ],
   "source": [
    "# Files to load\n",
    "student_data_to_load = \"Resources/students_complete.csv\"\n",
    "\n",
    "# Read the student data file and store it in a Pandas DataFrame.\n",
    "student_data_df = pd.read_csv(student_data_to_load)\n",
    "student_data_df.head() ## <-- .head() displays top 5 rows"
   ]
  },
  {
   "cell_type": "code",
   "execution_count": null,
   "id": "9acb707e",
   "metadata": {},
   "outputs": [],
   "source": []
  },
  {
   "cell_type": "code",
   "execution_count": null,
   "id": "7d682638",
   "metadata": {},
   "outputs": [],
   "source": []
  },
  {
   "cell_type": "code",
   "execution_count": null,
   "id": "7c257bdf",
   "metadata": {},
   "outputs": [],
   "source": []
  },
  {
   "cell_type": "code",
   "execution_count": null,
   "id": "0198d98c",
   "metadata": {},
   "outputs": [],
   "source": []
  },
  {
   "cell_type": "code",
   "execution_count": null,
   "id": "a1f14f58",
   "metadata": {},
   "outputs": [],
   "source": []
  }
 ],
 "metadata": {
  "kernelspec": {
   "display_name": "PythonData",
   "language": "python",
   "name": "pythondata"
  },
  "language_info": {
   "codemirror_mode": {
    "name": "ipython",
    "version": 3
   },
   "file_extension": ".py",
   "mimetype": "text/x-python",
   "name": "python",
   "nbconvert_exporter": "python",
   "pygments_lexer": "ipython3",
   "version": "3.9.12"
  }
 },
 "nbformat": 4,
 "nbformat_minor": 5
}
